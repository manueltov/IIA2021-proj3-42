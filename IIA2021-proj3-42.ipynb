{
 "cells": [
  {
   "cell_type": "markdown",
   "metadata": {
    "colab_type": "text",
    "id": "LekFEsVbua_R"
   },
   "source": [
    "#  Coevolução no jogo Rastros\n",
    "## Projeto nº 3\n",
    "### Introdução à Inteligência Artificial - edição 2020/21\n",
    "\n",
    "\n",
    "## Grupo: 42\n",
    "\n",
    "### Elementos do Grupo\n",
    "\n",
    "Nome: Ivo Veiga\n",
    "\n",
    "Número: 44865\n",
    "\n",
    "Nome: João Silva\n",
    "\n",
    "Número: 48782\n",
    "\n",
    "Nome: Manuel Tovar\n",
    "\n",
    "Número: 49522"
   ]
  },
  {
   "cell_type": "markdown",
   "metadata": {},
   "source": [
    "## Relatório"
   ]
  },
  {
   "cell_type": "markdown",
   "metadata": {},
   "source": [
    "### Funções características do jogo Rastros\n",
    "As Funções características são a distância à base e distância ao objectivo."
   ]
  },
  {
   "cell_type": "code",
   "execution_count": 1,
   "metadata": {},
   "outputs": [],
   "source": [
    "def dist(a, b):\n",
    "    return max(abs(a[0]-b[0]), abs(a[1]-b[1]))\n",
    "\n",
    "def dist_base(state,player):\n",
    "    return dist(state.white, (4,5))\n",
    "\n",
    "def dist_obj(state,player):\n",
    "    goal = (8, 1)\n",
    "    no_goal = (1, 8)\n",
    "    if player == \"N\":\n",
    "        goal = (1, 8)\n",
    "        no_goal = (8, 1)\n",
    "    return dist(state.white, goal)\n",
    "\n",
    "#lista das funções características\n",
    "list_caracts = [dist_base, dist_obj]"
   ]
  },
  {
   "cell_type": "markdown",
   "metadata": {},
   "source": [
    "### Função de avaliação, jogadores com cromossomas distintos e execução de pares de jogos\n",
    "\n",
    "A associação de um jogador a um cromossoma é feita antes da execução do primeiro jogo de um par usando um dicionário em que a chave são os jogadores obtidos pelos atributos `first` e `second` de uma subclasse de Game e os valores os cromossomas correspondentes. No segundo jogo do par de jogos os valores são trocados.\n",
    "\n",
    "Assim, o cromossoma que a função de avaliação vai usar depende do jogador que lhe for passado como argumento e os jogadores, por serem construidos com a mesma função de avaliação, reduzem-se apenas à representação por um cromossoma.\n",
    "\n",
    "A função de avaliação tem o seguinte aspeto:"
   ]
  },
  {
   "cell_type": "code",
   "execution_count": 4,
   "metadata": {},
   "outputs": [],
   "source": [
    "#dicionario jogador-cromossoma\n",
    "p_chromossome = {}\n",
    "    \n",
    "def f_eval(state,player):\n",
    "    #estados terminais\n",
    "    win_or_lose = state.compute_utility(player)\n",
    "    if win_or_lose == 1:\n",
    "        return 9999999999999\n",
    "    elif win_or_lose == -1:\n",
    "        return -9999999999999\n",
    "    else:\n",
    "        #combinacao linear dos cromossomas peso * funcao caracteristica \n",
    "        res = 0\n",
    "        for chrom_index, caract in enumerate(list_caracts):\n",
    "            res += p_chromossome[player][chrom_index] * caract(state,player)\n",
    "        return res"
   ]
  },
  {
   "cell_type": "markdown",
   "metadata": {},
   "source": [
    "Processo de criação de jogadores e execução de um par de jogos entre os cromossomas [2,4] e [1,3]:"
   ]
  },
  {
   "cell_type": "code",
   "execution_count": 8,
   "metadata": {},
   "outputs": [
    {
     "name": "stdout",
     "output_type": "stream",
     "text": [
      "1º jogo: Ganhou o [2,4]\n",
      "2º jogo: Ganhou o [2,4]\n"
     ]
    }
   ],
   "source": [
    "from rastros import *\n",
    "\n",
    "game = Rastros()\n",
    "\n",
    "#o jogador genérico alfabeta\n",
    "limite_prof = 2\n",
    "jogador = lambda game, state: alphabeta_cutoff_search_new(state,game,limite_prof,eval_fn=f_eval)\n",
    "\n",
    "#antes do primeiro jogo os jogadores são \"criados\"\n",
    "p_chromossome[game.first] = [2,4]\n",
    "p_chromossome[game.second] = [1,3]\n",
    "#ve se o primeiro jogador, que neste caso é o [2,4] ganha (1 ganha, -1 perde)\n",
    "does_first_win_fst_game = game.jogar(jogador,jogador,verbose=False)\n",
    "\n",
    "#o [2,4] passa a segundo jogador e o [1,3] a primeiro\n",
    "p_chromossome[game.first] = [1,3]\n",
    "p_chromossome[game.second] = [2,4]\n",
    "#ve se o primeiro jogador, que neste caso é o [1,3] ganha (1 ganha, -1 perde)\n",
    "does_first_win_snd_game = game.jogar(jogador,jogador,verbose=False)\n",
    "\n",
    "print(\"1º jogo: Ganhou o [2,4]\") if does_first_win_fst_game == 1 else print(\"1º jogo: Ganhou o [1,3]\")\n",
    "print(\"2º jogo: Ganhou o [1,3]\") if does_first_win_snd_game == 1 else print(\"2º jogo: Ganhou o [2,4]\")\n"
   ]
  },
  {
   "cell_type": "markdown",
   "metadata": {},
   "source": [
    "### População inicial\n",
    "explicação..."
   ]
  },
  {
   "cell_type": "code",
   "execution_count": null,
   "metadata": {},
   "outputs": [],
   "source": []
  },
  {
   "cell_type": "markdown",
   "metadata": {},
   "source": [
    "### Fitness: competição tipo taça\n",
    "explicação..."
   ]
  },
  {
   "cell_type": "markdown",
   "metadata": {},
   "source": [
    "### Seleção por torneio\n",
    "explicação..."
   ]
  },
  {
   "cell_type": "markdown",
   "metadata": {},
   "source": []
  },
  {
   "cell_type": "markdown",
   "metadata": {},
   "source": [
    "### Geração dos dois descendentes por cruzamento de 1 ponto de corte\n",
    "explicação..."
   ]
  },
  {
   "cell_type": "code",
   "execution_count": null,
   "metadata": {},
   "outputs": [],
   "source": []
  },
  {
   "cell_type": "markdown",
   "metadata": {},
   "source": [
    "### Pssibilidade de mutação (em todos os genes)\n",
    "explicação..."
   ]
  },
  {
   "cell_type": "code",
   "execution_count": null,
   "metadata": {},
   "outputs": [],
   "source": []
  },
  {
   "cell_type": "markdown",
   "metadata": {},
   "source": [
    "### Uso do elitismo\n",
    "explicação..."
   ]
  },
  {
   "cell_type": "code",
   "execution_count": null,
   "metadata": {},
   "outputs": [],
   "source": []
  },
  {
   "cell_type": "markdown",
   "metadata": {},
   "source": [
    "### Formação da geração seguinte, dada uma geração\n",
    "explicação..."
   ]
  },
  {
   "cell_type": "code",
   "execution_count": null,
   "metadata": {},
   "outputs": [],
   "source": []
  },
  {
   "cell_type": "markdown",
   "metadata": {},
   "source": [
    "### Função principal\n",
    "explicação..."
   ]
  },
  {
   "cell_type": "code",
   "execution_count": null,
   "metadata": {},
   "outputs": [],
   "source": []
  },
  {
   "cell_type": "markdown",
   "metadata": {},
   "source": [
    "### Execução do algoritmo de coevolução para o jogo Rastros\n",
    "explicação... executando o alfabeta para uma profundidade limitada a 2 e a 1"
   ]
  },
  {
   "cell_type": "code",
   "execution_count": null,
   "metadata": {},
   "outputs": [],
   "source": []
  },
  {
   "cell_type": "markdown",
   "metadata": {},
   "source": [
    "resultado das evoluções para o Rastros para limites de profundidades maiores  (por exemplo, 4 e 5): (melhorar este texto no fim...)"
   ]
  },
  {
   "cell_type": "code",
   "execution_count": null,
   "metadata": {},
   "outputs": [],
   "source": []
  },
  {
   "cell_type": "markdown",
   "metadata": {},
   "source": [
    "### Usando o algoritmo de coevolução para outros jogos\n",
    "explicação... (tic tac toe de uma das tps, 4 características básicas do tipo: o número de centros que tenho, o número de centros que ele tem, o número de cantos que tenho, o número de cantos que ele tem)"
   ]
  },
  {
   "cell_type": "code",
   "execution_count": null,
   "metadata": {},
   "outputs": [],
   "source": []
  }
 ],
 "metadata": {
  "colab": {
   "collapsed_sections": [],
   "name": "Untitled0.ipynb",
   "provenance": [],
   "version": "0.3.2"
  },
  "kernelspec": {
   "display_name": "Python 3",
   "language": "python",
   "name": "python3"
  },
  "language_info": {
   "codemirror_mode": {
    "name": "ipython",
    "version": 3
   },
   "file_extension": ".py",
   "mimetype": "text/x-python",
   "name": "python",
   "nbconvert_exporter": "python",
   "pygments_lexer": "ipython3",
   "version": "3.8.3"
  }
 },
 "nbformat": 4,
 "nbformat_minor": 4
}
