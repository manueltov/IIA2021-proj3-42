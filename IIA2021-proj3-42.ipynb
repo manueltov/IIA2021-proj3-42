{
 "cells": [
  {
   "cell_type": "markdown",
   "metadata": {
    "colab_type": "text",
    "id": "LekFEsVbua_R"
   },
   "source": [
    "#  Coevolução no jogo Rastros\n",
    "## Projeto nº 3\n",
    "### Introdução à Inteligência Artificial - edição 2020/21\n",
    "\n",
    "\n",
    "## Grupo: 42\n",
    "\n",
    "### Elementos do Grupo\n",
    "\n",
    "Nome: Ivo Veiga\n",
    "\n",
    "Número: 44865\n",
    "\n",
    "Nome: João Silva\n",
    "\n",
    "Número: 48782\n",
    "\n",
    "Nome: Manuel Tovar\n",
    "\n",
    "Número: 49522"
   ]
  },
  {
   "cell_type": "markdown",
   "metadata": {},
   "source": [
    "## Relatório"
   ]
  },
  {
   "cell_type": "code",
   "execution_count": null,
   "metadata": {},
   "outputs": [],
   "source": [
    "\n",
    "\n",
    "\n",
    "\n",
    "\n",
    "\n",
    "\n",
    "\n",
    "\n",
    "\n",
    "\n",
    "\n",
    "\n",
    "\n",
    "\n",
    "\n",
    "\n",
    "\n",
    "\n",
    "\n",
    "\n",
    "\n",
    "\n",
    "\n",
    "\n",
    "\n",
    "\n",
    "\n",
    "\n",
    "\n",
    "\n"
   ]
  },
  {
   "cell_type": "markdown",
   "metadata": {},
   "source": [
    "### Funções características do jogo Rastros\n",
    "As Funções características são a distância à base e distância ao objectivo."
   ]
  },
  {
   "cell_type": "code",
   "execution_count": 1,
   "metadata": {},
   "outputs": [],
   "source": [
    "from rastros import *\n",
    "\n",
    "def dist(a, b):\n",
    "    return max(abs(a[0]-b[0]), abs(a[1]-b[1]))\n",
    "\n",
    "def dist_base(state,player):\n",
    "    return dist(state.white, (4,5))\n",
    "\n",
    "def dist_obj(state,player):\n",
    "    goal = (8, 1)\n",
    "    no_goal = (1, 8)\n",
    "    if player == \"N\":\n",
    "        goal = (1, 8)\n",
    "        no_goal = (8, 1)\n",
    "    return dist(state.white, goal)\n",
    "\n",
    "#lista das funções características\n",
    "list_caracts = [dist_base, dist_obj]"
   ]
  },
  {
   "cell_type": "markdown",
   "metadata": {},
   "source": [
    "### Função de avaliação, jogadores com cromossomas distintos e execução de pares de jogos\n",
    "\n",
    "A associação de um jogador a um cromossoma é feita antes da execução do primeiro jogo de um par usando um dicionário em que a chave são os jogadores obtidos pelos atributos `first` e `second` de uma subclasse de Game e os valores os cromossomas correspondentes. No segundo jogo do par de jogos os valores são trocados.\n",
    "\n",
    "Assim, o cromossoma que a função de avaliação vai usar depende do jogador que lhe for passado como argumento e os jogadores, por serem construidos com a mesma função de avaliação, reduzem-se apenas à representação por um cromossoma.\n",
    "\n",
    "A função de avaliação tem o seguinte aspeto:"
   ]
  },
  {
   "cell_type": "code",
   "execution_count": 79,
   "metadata": {},
   "outputs": [],
   "source": [
    "#dicionario jogador-cromossoma\n",
    "p_chromossome = {}\n",
    "    \n",
    "def f_eval(state,player):\n",
    "    #estados terminais\n",
    "    win_or_lose = state.compute_utility(player)\n",
    "    if win_or_lose == 1:\n",
    "        return infinity\n",
    "    elif win_or_lose == -1:\n",
    "        return -infinity\n",
    "    else:\n",
    "        #combinacao linear dos cromossomas peso * funcao caracteristica \n",
    "        res = 0\n",
    "        for chrom_index, caract in enumerate(list_caracts):\n",
    "            res += p_chromossome[player][chrom_index] * caract(state,player)\n",
    "        return res"
   ]
  },
  {
   "cell_type": "markdown",
   "metadata": {},
   "source": [
    "A associação de um jogadores a dois cromossomas [2,4] e [1,3] para um primeiro jogo de um par é então:"
   ]
  },
  {
   "cell_type": "code",
   "execution_count": 25,
   "metadata": {},
   "outputs": [],
   "source": [
    "game_a = Rastros()\n",
    "p_chromossome[game_a.first] = [2,4]\n",
    "p_chromossome[game_a.second] = [1,3]"
   ]
  },
  {
   "cell_type": "markdown",
   "metadata": {},
   "source": [
    "E para o segundo jogo a ordem dos jogadores é invertida:"
   ]
  },
  {
   "cell_type": "code",
   "execution_count": 26,
   "metadata": {},
   "outputs": [],
   "source": [
    "game_a = Rastros()\n",
    "p_chromossome[game_a.first] = [1,3]\n",
    "p_chromossome[game_a.second] = [2,4]"
   ]
  },
  {
   "cell_type": "markdown",
   "metadata": {},
   "source": [
    "Como a função de avaliação usada pelo alfabeta é igual para ambos os jogadores, existe só um jogador genérico:"
   ]
  },
  {
   "cell_type": "code",
   "execution_count": 27,
   "metadata": {},
   "outputs": [],
   "source": [
    "limite_prof_exemplo = 2\n",
    "jogador_exemplo = lambda game, state: alphabeta_cutoff_search_new(state,game,limite_prof_exemplo,eval_fn=f_eval)"
   ]
  },
  {
   "cell_type": "markdown",
   "metadata": {},
   "source": [
    "Para executar um par de jogos pode então ser definida a seguinte função:"
   ]
  },
  {
   "cell_type": "code",
   "execution_count": 28,
   "metadata": {},
   "outputs": [],
   "source": [
    "def play_game_pair(game_class,chromossome1,chromossome2,alfabeta_func,verbose=False) :\n",
    "    def play_one_game(game):\n",
    "        estado = game.initial\n",
    "        if verbose :\n",
    "            game.display(estado)\n",
    "        fim = False\n",
    "        while not fim :\n",
    "            jogada = alfabeta_func(game,estado)\n",
    "            if jogada == None:\n",
    "                return 1 if game.to_move(estado) == game.second else -1\n",
    "            estado = game.result(estado,jogada)\n",
    "            if verbose :\n",
    "                game.display(estado)\n",
    "            fim = game.terminal_test(estado) \n",
    "        return game.utility(estado, game.to_move(game.initial))\n",
    "    #primeiro jogo\n",
    "    game = game_class()\n",
    "    p_chromossome[game.first] = chromossome1\n",
    "    p_chromossome[game.second] = chromossome2        \n",
    "    res_with_chrom1_fst = play_one_game(game)    \n",
    "    #segundo jogo\n",
    "    game = game_class()\n",
    "    p_chromossome[game.first] = chromossome2\n",
    "    p_chromossome[game.second] = chromossome1        \n",
    "    res_with_chrom2_fst = play_one_game(game)\n",
    "    \n",
    "    if res_with_chrom1_fst == res_with_chrom2_fst:\n",
    "        return 1,1 #empate ambos têm 1 vitória\n",
    "    elif res_with_chrom1_fst > res_with_chrom2_fst:\n",
    "        return 2,0 #chrom1 tem 2 vitórias , chrom2 tem 0 vitórias\n",
    "    else:\n",
    "        return 0,2 #chrom1 tem 0 vitórias , chrom2 tem 2 vitórias    "
   ]
  },
  {
   "cell_type": "markdown",
   "metadata": {},
   "source": [
    "Exemplo de execução de um par de jogos entre os cromossomas [3,4] e [2,3] com limite de profundidade 2 (limite_prof_exemplo definido anteriormente):"
   ]
  },
  {
   "cell_type": "code",
   "execution_count": 29,
   "metadata": {},
   "outputs": [
    {
     "name": "stdout",
     "output_type": "stream",
     "text": [
      "Vitórias do cromossoma 1:  1\n",
      "Vitórias do cromossoma 2:  1\n"
     ]
    }
   ],
   "source": [
    "chrom1_wins, chrom2_wins = play_game_pair(Rastros, [3,4], [2,3], jogador_exemplo, verbose=False)\n",
    "print(\"Vitórias do cromossoma 1: \", chrom1_wins)\n",
    "print(\"Vitórias do cromossoma 2: \", chrom2_wins)"
   ]
  },
  {
   "cell_type": "markdown",
   "metadata": {},
   "source": [
    "Para se executarem N pares de jogos entre dois cromossomas para cada limite de profundidade define-se a seguinte função:"
   ]
  },
  {
   "cell_type": "code",
   "execution_count": 30,
   "metadata": {},
   "outputs": [],
   "source": [
    "def play_n_pairs_per_limit(game_class,chromossome1,chromossome2, num_pairs_per_limit, depth_limits):\n",
    "    chrom1_res = 0\n",
    "    chrom2_res = 0\n",
    "    for depth in depth_limits:  \n",
    "        alfabeta_func = lambda game, state: alphabeta_cutoff_search_new(state,game,depth,eval_fn=f_eval)        \n",
    "        for i in range (num_pairs_per_limit):\n",
    "            chrom1_wins, chrom2_wins = play_game_pair(game_class, chromossome1, chromossome2, alfabeta_func)\n",
    "            chrom1_res += chrom1_wins\n",
    "            chrom2_res += chrom2_wins\n",
    "    return chrom1_res, chrom2_res"
   ]
  },
  {
   "cell_type": "markdown",
   "metadata": {},
   "source": [
    "Resultados da execução de 20 pares de jogos entre dois cromossomas ([1,-100] e [3,2]) para cada limite da lista [1,2,3,4] de limites:"
   ]
  },
  {
   "cell_type": "code",
   "execution_count": 77,
   "metadata": {},
   "outputs": [
    {
     "name": "stdout",
     "output_type": "stream",
     "text": [
      "Vitórias do cromossoma  [1, -100]  :  48\n",
      "Vitórias do cromossoma  [3, 2]  :  112\n"
     ]
    }
   ],
   "source": [
    "depth_limits = [1,2,3,4]\n",
    "num_pairs = 20\n",
    "chrom1 = [1,-100]\n",
    "chrom2 = [3,2]\n",
    "chrom1_wins, chrom2_wins = play_n_pairs_per_limit(Rastros, chrom1, chrom2, num_pairs, depth_limits)\n",
    "print(\"Vitórias do cromossoma \", chrom1, \" : \", chrom1_wins)\n",
    "print(\"Vitórias do cromossoma \", chrom2, \" : \", chrom2_wins)"
   ]
  },
  {
   "cell_type": "markdown",
   "metadata": {},
   "source": [
    "Resultados da execução de mais 20 pares de jogos entre os dois cromossomas anteriores, agora com o cromossoma [3,2] como o cromossoma1 e [1,-100] como cromossoma2: "
   ]
  },
  {
   "cell_type": "code",
   "execution_count": 78,
   "metadata": {},
   "outputs": [
    {
     "name": "stdout",
     "output_type": "stream",
     "text": [
      "Vitórias do cromossoma  [3, 2]  :  116\n",
      "Vitórias do cromossoma  [1, -100]  :  44\n"
     ]
    }
   ],
   "source": [
    "chrom1 = [3,2]\n",
    "chrom2 = [1,-100]\n",
    "chrom1_wins, chrom2_wins = play_n_pairs_per_limit(Rastros, chrom1, chrom2, num_pairs, depth_limits)\n",
    "print(\"Vitórias do cromossoma \", chrom1, \" : \", chrom1_wins)\n",
    "print(\"Vitórias do cromossoma \", chrom2, \" : \", chrom2_wins)"
   ]
  },
  {
   "cell_type": "markdown",
   "metadata": {},
   "source": [
    "Para comprovar que a função de avaliação e a execução dos jogos estão bem implementadas e integram corretamente os cromossomas é necessário que os resultados anteriores sejam consistentes, ou seja que se observe que o número de vitórias em relação ao total de jogos para um dado cromossoma seja aproximadamente igual quer ou não esse cromossoma seja o primeiro argumento da função de execução de jogos. Isto é o caso, já que o cromossoma [3,2] é consistentemente melhor que o [1,-100]."
   ]
  },
  {
   "cell_type": "markdown",
   "metadata": {},
   "source": [
    "### População inicial\n",
    "Como os pesos que são as características dos cromossomas são inteiros num dado intervalo, cada cromossoma da população inicial terá características que vão ser inteiros aleatórios nesse intervalo.\n",
    "\n",
    "A geração da população inicial é definida assim:"
   ]
  },
  {
   "cell_type": "code",
   "execution_count": null,
   "metadata": {},
   "outputs": [],
   "source": [
    "def init_population(dim, gene_pool, num_caracts):\n",
    "    g = len(gene_pool)\n",
    "    population = []\n",
    "    for i in range(pop_number):\n",
    "        new_individual = [gene_pool[random.randrange(0, g)] for j in range(state_length)]\n",
    "        population.append(new_individual)\n",
    "\n",
    "    return population"
   ]
  },
  {
   "cell_type": "markdown",
   "metadata": {},
   "source": [
    "### Fitness: competição tipo taça\n",
    "explicação..."
   ]
  },
  {
   "cell_type": "markdown",
   "metadata": {},
   "source": [
    "### Seleção por torneio\n",
    "explicação..."
   ]
  },
  {
   "cell_type": "markdown",
   "metadata": {},
   "source": []
  },
  {
   "cell_type": "markdown",
   "metadata": {},
   "source": [
    "### Geração dos dois descendentes por cruzamento de 1 ponto de corte\n",
    "explicação..."
   ]
  },
  {
   "cell_type": "code",
   "execution_count": null,
   "metadata": {},
   "outputs": [],
   "source": []
  },
  {
   "cell_type": "markdown",
   "metadata": {},
   "source": [
    "### Pssibilidade de mutação (em todos os genes)\n",
    "explicação..."
   ]
  },
  {
   "cell_type": "code",
   "execution_count": null,
   "metadata": {},
   "outputs": [],
   "source": []
  },
  {
   "cell_type": "markdown",
   "metadata": {},
   "source": [
    "### Uso do elitismo\n",
    "explicação..."
   ]
  },
  {
   "cell_type": "code",
   "execution_count": null,
   "metadata": {},
   "outputs": [],
   "source": []
  },
  {
   "cell_type": "markdown",
   "metadata": {},
   "source": [
    "### Formação da geração seguinte, dada uma geração\n",
    "explicação..."
   ]
  },
  {
   "cell_type": "code",
   "execution_count": null,
   "metadata": {},
   "outputs": [],
   "source": []
  },
  {
   "cell_type": "markdown",
   "metadata": {},
   "source": [
    "### Função principal\n",
    "explicação..."
   ]
  },
  {
   "cell_type": "code",
   "execution_count": null,
   "metadata": {},
   "outputs": [],
   "source": []
  },
  {
   "cell_type": "markdown",
   "metadata": {},
   "source": [
    "### Execução do algoritmo de coevolução para o jogo Rastros\n",
    "explicação... executando o alfabeta para uma profundidade limitada a 2 e a 1"
   ]
  },
  {
   "cell_type": "code",
   "execution_count": null,
   "metadata": {},
   "outputs": [],
   "source": []
  },
  {
   "cell_type": "markdown",
   "metadata": {},
   "source": [
    "resultado das evoluções para o Rastros para limites de profundidades maiores  (por exemplo, 4 e 5): (melhorar este texto no fim...)"
   ]
  },
  {
   "cell_type": "code",
   "execution_count": null,
   "metadata": {},
   "outputs": [],
   "source": []
  },
  {
   "cell_type": "markdown",
   "metadata": {},
   "source": [
    "### Usando o algoritmo de coevolução para outros jogos\n",
    "explicação... (tic tac toe de uma das tps, 4 características básicas do tipo: o número de centros que tenho, o número de centros que ele tem, o número de cantos que tenho, o número de cantos que ele tem)"
   ]
  },
  {
   "cell_type": "code",
   "execution_count": null,
   "metadata": {},
   "outputs": [],
   "source": []
  }
 ],
 "metadata": {
  "colab": {
   "collapsed_sections": [],
   "name": "Untitled0.ipynb",
   "provenance": [],
   "version": "0.3.2"
  },
  "kernelspec": {
   "display_name": "Python 3",
   "language": "python",
   "name": "python3"
  },
  "language_info": {
   "codemirror_mode": {
    "name": "ipython",
    "version": 3
   },
   "file_extension": ".py",
   "mimetype": "text/x-python",
   "name": "python",
   "nbconvert_exporter": "python",
   "pygments_lexer": "ipython3",
   "version": "3.8.3"
  }
 },
 "nbformat": 4,
 "nbformat_minor": 4
}
