{
 "cells": [
  {
   "cell_type": "markdown",
   "metadata": {
    "colab_type": "text",
    "id": "LekFEsVbua_R"
   },
   "source": [
    "#  Coevolução no jogo Rastros\n",
    "## Projeto nº 3\n",
    "### Introdução à Inteligência Artificial - edição 2020/21\n",
    "\n",
    "\n",
    "## Grupo: 42\n",
    "\n",
    "### Elementos do Grupo\n",
    "\n",
    "Nome: Ivo Veiga\n",
    "\n",
    "Número: 44865\n",
    "\n",
    "Nome: João Silva\n",
    "\n",
    "Número: 48782\n",
    "\n",
    "Nome: Manuel Tovar\n",
    "\n",
    "Número: 49522"
   ]
  },
  {
   "cell_type": "markdown",
   "metadata": {},
   "source": [
    "## Relatório"
   ]
  },
  {
   "cell_type": "code",
   "execution_count": null,
   "metadata": {},
   "outputs": [],
   "source": [
    "\n",
    "\n",
    "\n",
    "\n",
    "\n",
    "\n",
    "\n",
    "\n",
    "\n",
    "\n",
    "\n",
    "\n",
    "\n",
    "\n",
    "\n",
    "\n",
    "\n",
    "\n",
    "\n",
    "\n",
    "\n",
    "\n",
    "\n",
    "\n",
    "\n",
    "\n",
    "\n",
    "\n",
    "\n",
    "\n",
    "\n"
   ]
  },
  {
   "cell_type": "markdown",
   "metadata": {},
   "source": [
    "### Funções características do jogo Rastros\n",
    "As Funções características são a distância à base e distância ao objectivo.\n",
    "\n",
    "A distância à base é a distância da peça branca à casa (4,5) e a distância ao objetivo é a distância da peça branca à casa (8,1) caso o jogador seja 'S' ou à casa (1,8) caso o jogador seja 'N'."
   ]
  },
  {
   "cell_type": "code",
   "execution_count": 1,
   "metadata": {},
   "outputs": [],
   "source": [
    "from rastros import *\n",
    "import random\n",
    "\n",
    "def dist(a, b):\n",
    "    return max(abs(a[0]-b[0]), abs(a[1]-b[1]))\n",
    "\n",
    "def dist_base(state,player):\n",
    "    return dist(state.white, (4,5))\n",
    "\n",
    "def dist_obj(state,player):\n",
    "    goal = (8, 1)\n",
    "    if player == \"N\":\n",
    "        goal = (1, 8)\n",
    "    return dist(state.white, goal)\n",
    "\n",
    "#lista das funções características\n",
    "list_fun_caracts = [dist_base, dist_obj]"
   ]
  },
  {
   "cell_type": "markdown",
   "metadata": {},
   "source": [
    "### Função de avaliação, jogadores com cromossomas distintos e execução de pares de jogos\n",
    "\n",
    "A associação de um jogador a um cromossoma é feita antes da execução do primeiro jogo de um par usando um dicionário em que a chave são os jogadores obtidos pelos atributos `first` e `second` de uma subclasse de Game e os valores os cromossomas correspondentes. No segundo jogo do par de jogos os valores são trocados.\n",
    "\n",
    "Assim, o cromossoma que a função de avaliação vai usar depende do jogador que lhe for passado como argumento e os jogadores, por serem construidos com a mesma função de avaliação, reduzem-se apenas à representação por um cromossoma.\n",
    "\n",
    "A função de avaliação tem o seguinte aspeto:"
   ]
  },
  {
   "cell_type": "code",
   "execution_count": 2,
   "metadata": {},
   "outputs": [],
   "source": [
    "#dicionario jogador-cromossoma\n",
    "p_chromossome = {}\n",
    "    \n",
    "def f_eval(state,player):\n",
    "    #estados terminais\n",
    "    win_or_lose = state.compute_utility(player)\n",
    "    if win_or_lose == 1:\n",
    "        return infinity\n",
    "    elif win_or_lose == -1:\n",
    "        return -infinity\n",
    "    else:\n",
    "        #combinacao linear dos genes peso * funcao caracteristica \n",
    "        res = 0\n",
    "        for chrom_index, caract in enumerate(list_fun_caracts):\n",
    "            res += p_chromossome[player][chrom_index] * caract(state,player)\n",
    "        return res"
   ]
  },
  {
   "cell_type": "markdown",
   "metadata": {},
   "source": [
    "A associação de um jogadores a dois cromossomas [2,4] e [1,3] para um primeiro jogo de um par é então:"
   ]
  },
  {
   "cell_type": "code",
   "execution_count": 3,
   "metadata": {},
   "outputs": [],
   "source": [
    "game_a = Rastros()\n",
    "p_chromossome[game_a.first] = [2,4]\n",
    "p_chromossome[game_a.second] = [1,3]"
   ]
  },
  {
   "cell_type": "markdown",
   "metadata": {},
   "source": [
    "E para o segundo jogo a ordem dos jogadores é invertida:"
   ]
  },
  {
   "cell_type": "code",
   "execution_count": 4,
   "metadata": {},
   "outputs": [],
   "source": [
    "game_a = Rastros()\n",
    "p_chromossome[game_a.first] = [1,3]\n",
    "p_chromossome[game_a.second] = [2,4]"
   ]
  },
  {
   "cell_type": "markdown",
   "metadata": {},
   "source": [
    "Como a função de avaliação usada pelo alfabeta é igual para ambos os jogadores, existe só um jogador genérico:"
   ]
  },
  {
   "cell_type": "code",
   "execution_count": 5,
   "metadata": {},
   "outputs": [],
   "source": [
    "limite_prof_exemplo = 2\n",
    "jogador_exemplo = lambda game, state: alphabeta_cutoff_search_new(state,game,limite_prof_exemplo,eval_fn=f_eval)"
   ]
  },
  {
   "cell_type": "markdown",
   "metadata": {},
   "source": [
    "Para executar um par de jogos pode então ser definida a seguinte função:"
   ]
  },
  {
   "cell_type": "code",
   "execution_count": 6,
   "metadata": {},
   "outputs": [],
   "source": [
    "def play_game_pair(game_class,chromossome1,chromossome2,alfabeta_func,verbose=False) :\n",
    "    def play_one_game(game):\n",
    "        estado = game.initial\n",
    "        if verbose :\n",
    "            game.display(estado)\n",
    "        fim = False\n",
    "        while not fim :\n",
    "            jogada = alfabeta_func(game,estado)\n",
    "            if jogada == None:\n",
    "                return 1 if game.to_move(estado) == game.second else -1\n",
    "            estado = game.result(estado,jogada)\n",
    "            if verbose :\n",
    "                game.display(estado)\n",
    "            fim = game.terminal_test(estado) \n",
    "        return game.utility(estado, game.to_move(game.initial))\n",
    "    #primeiro jogo\n",
    "    game = game_class()\n",
    "    p_chromossome[game.first] = chromossome1\n",
    "    p_chromossome[game.second] = chromossome2        \n",
    "    res_with_chrom1_fst = play_one_game(game)    \n",
    "    #segundo jogo\n",
    "    game = game_class()\n",
    "    p_chromossome[game.first] = chromossome2\n",
    "    p_chromossome[game.second] = chromossome1        \n",
    "    res_with_chrom2_fst = play_one_game(game)\n",
    "    \n",
    "    if res_with_chrom1_fst == res_with_chrom2_fst:\n",
    "        return 1,1 #empate ambos têm 1 vitória\n",
    "    elif res_with_chrom1_fst > res_with_chrom2_fst:\n",
    "        return 2,0 #chrom1 tem 2 vitórias , chrom2 tem 0 vitórias\n",
    "    else:\n",
    "        return 0,2 #chrom1 tem 0 vitórias , chrom2 tem 2 vitórias    "
   ]
  },
  {
   "cell_type": "markdown",
   "metadata": {},
   "source": [
    "Exemplo de execução de um par de jogos entre os cromossomas [3,4] e [2,3] com limite de profundidade 2 (limite_prof_exemplo definido anteriormente):"
   ]
  },
  {
   "cell_type": "code",
   "execution_count": 7,
   "metadata": {},
   "outputs": [
    {
     "name": "stdout",
     "output_type": "stream",
     "text": [
      "Vitórias do cromossoma 1:  2\n",
      "Vitórias do cromossoma 2:  0\n"
     ]
    }
   ],
   "source": [
    "chrom1_wins, chrom2_wins = play_game_pair(Rastros, [3,4], [2,3], jogador_exemplo, verbose=False)\n",
    "print(\"Vitórias do cromossoma 1: \", chrom1_wins)\n",
    "print(\"Vitórias do cromossoma 2: \", chrom2_wins)"
   ]
  },
  {
   "cell_type": "markdown",
   "metadata": {},
   "source": [
    "Para se executarem N pares de jogos entre dois cromossomas para cada limite de profundidade define-se a seguinte função:"
   ]
  },
  {
   "cell_type": "code",
   "execution_count": 8,
   "metadata": {},
   "outputs": [],
   "source": [
    "def play_n_pairs_per_limit(game_class,chromossome1,chromossome2, num_pairs_per_limit, depth_limits):\n",
    "    chrom1_res = 0\n",
    "    chrom2_res = 0\n",
    "    for depth in depth_limits:  \n",
    "        alfabeta_func = lambda game, state: alphabeta_cutoff_search_new(state,game,depth,eval_fn=f_eval)        \n",
    "        for i in range (num_pairs_per_limit):\n",
    "            chrom1_wins, chrom2_wins = play_game_pair(game_class, chromossome1, chromossome2, alfabeta_func)\n",
    "            chrom1_res += chrom1_wins\n",
    "            chrom2_res += chrom2_wins\n",
    "    return chrom1_res, chrom2_res"
   ]
  },
  {
   "cell_type": "markdown",
   "metadata": {},
   "source": [
    "Resultados da execução de 20 pares de jogos entre dois cromossomas ([1,-100] e [3,2]) para cada limite da lista [1,2,3,4] de limites:"
   ]
  },
  {
   "cell_type": "code",
   "execution_count": 9,
   "metadata": {},
   "outputs": [
    {
     "name": "stdout",
     "output_type": "stream",
     "text": [
      "Vitórias do cromossoma  [1, -100]  :  40\n",
      "Vitórias do cromossoma  [3, 2]  :  120\n"
     ]
    }
   ],
   "source": [
    "depth_limits = [1,2,3,4]\n",
    "num_pairs = 20\n",
    "chrom1 = [1,-100]\n",
    "chrom2 = [3,2]\n",
    "chrom1_wins, chrom2_wins = play_n_pairs_per_limit(Rastros, chrom1, chrom2, num_pairs, depth_limits)\n",
    "print(\"Vitórias do cromossoma \", chrom1, \" : \", chrom1_wins)\n",
    "print(\"Vitórias do cromossoma \", chrom2, \" : \", chrom2_wins)"
   ]
  },
  {
   "cell_type": "markdown",
   "metadata": {},
   "source": [
    "Resultados da execução de mais 20 pares de jogos entre os dois cromossomas anteriores, agora com o cromossoma [3,2] como o cromossoma1 e [1,-100] como cromossoma2: "
   ]
  },
  {
   "cell_type": "code",
   "execution_count": 10,
   "metadata": {},
   "outputs": [
    {
     "name": "stdout",
     "output_type": "stream",
     "text": [
      "Vitórias do cromossoma  [3, 2]  :  112\n",
      "Vitórias do cromossoma  [1, -100]  :  48\n"
     ]
    }
   ],
   "source": [
    "chrom1 = [3,2]\n",
    "chrom2 = [1,-100]\n",
    "chrom1_wins, chrom2_wins = play_n_pairs_per_limit(Rastros, chrom1, chrom2, num_pairs, depth_limits)\n",
    "print(\"Vitórias do cromossoma \", chrom1, \" : \", chrom1_wins)\n",
    "print(\"Vitórias do cromossoma \", chrom2, \" : \", chrom2_wins)"
   ]
  },
  {
   "cell_type": "markdown",
   "metadata": {},
   "source": [
    "Para comprovar que a função de avaliação e a execução dos jogos estão bem implementadas e integram corretamente os cromossomas é necessário que os resultados anteriores sejam consistentes, ou seja que se observe que o número de vitórias em relação ao total de jogos para um dado cromossoma seja aproximadamente igual quer ou não esse cromossoma seja o primeiro argumento da função de execução de jogos. Isto é o caso, já que o cromossoma [3,2] é consistentemente melhor que o [1,-100]."
   ]
  },
  {
   "cell_type": "markdown",
   "metadata": {},
   "source": [
    "### População inicial\n",
    "Cada cromossoma da população inicial terá genes representados por inteiros pré-determinados. Ou seja, a gene pool será previamente gerada.\n",
    "\n",
    "Define-se então a função que cria a população inicial:"
   ]
  },
  {
   "cell_type": "code",
   "execution_count": 11,
   "metadata": {},
   "outputs": [],
   "source": [
    "def init_population(dim, gene_pool, num_caracts):\n",
    "    assert (dim & (dim-1) == 0) and dim != 0 #dim tem de ser potência de 2 (100 (4) and 011 (3) = 000)\n",
    "    g = len(gene_pool)\n",
    "    population = []\n",
    "    for i in range(dim):\n",
    "        new_individual = [gene_pool[random.randrange(0, g)] for c in range(num_caracts)]\n",
    "        population.append(new_individual)\n",
    "    return population"
   ]
  },
  {
   "cell_type": "markdown",
   "metadata": {},
   "source": [
    "Usando o intervalo [-1000,1000] para os valores possíveis da gene pool, a população inicial pode ser criada da seguinte maneira:"
   ]
  },
  {
   "cell_type": "code",
   "execution_count": 12,
   "metadata": {},
   "outputs": [
    {
     "name": "stdout",
     "output_type": "stream",
     "text": [
      "[[549, -783], [-677, 984], [-232, -913], [901, -557], [-890, 341], [777, 466], [525, 702], [640, 783]]\n"
     ]
    }
   ],
   "source": [
    "gene_pool = [i for i in range(-1000,1001,1)]\n",
    "pop_size = 8\n",
    "population = init_population(pop_size, gene_pool, len(list_fun_caracts))\n",
    "print(population)"
   ]
  },
  {
   "cell_type": "markdown",
   "metadata": {},
   "source": [
    "### Fitness: competição tipo taça\n",
    "É feita a competição tipo taça entre a população para obter uma tabela de cromossomas e respetivos fitness. Esta tabela será progressivamente construída ao longo da competição de modo a que o fitness de cada cromossoma seja igual ao número de rondas em que se mantiveram na competição. O vencedor terá fitness igual ao número total de rondas + 1.\n",
    "\n",
    "Um exemplo de uma tabela para uma população de 8 elementos pode ser [([1, 2], 1), ([-1, -2], 1), ([-5, -3], 1), ([2, -1], 1), ([-6, -7], 2), ([-6, 9], 2), ([0, -3], 3), ([-3, -2], 4)] , onde o cromossoma [1,2] tem fitness 1 e o cromossoma [-3,-2] tem fitness 4.\n",
    "\n",
    "Cada ronda da competição é executada recursivamente em que os vencedores de uma ronda (`winners`) são os que competem na seguinte (`players`) e os perdedores são adicionados à tabela (`fitness_list`). Define-se a função do seguinte modo:"
   ]
  },
  {
   "cell_type": "code",
   "execution_count": 13,
   "metadata": {},
   "outputs": [],
   "source": [
    "def do_cup_competition(population, game_class, num_game_pairs, depth_limits):    \n",
    "    fitness_list = []\n",
    "    \n",
    "    def do_round(players, i_round):\n",
    "        winners = []\n",
    "        for i in range(int(len(players)/2)):\n",
    "            c1 = players[i*2]\n",
    "            c2 = players[(i*2)+1]            \n",
    "            wins1, wins2 = play_n_pairs_per_limit(game_class, c1, c2, num_game_pairs, depth_limits)\n",
    "            if wins1 == wins2:\n",
    "                if random.choice([True,False]):\n",
    "                    winners.append(c1)\n",
    "                    fitness_list.append((c2,i_round))\n",
    "                else:\n",
    "                    winners.append(c2)\n",
    "                    fitness_list.append((c1,i_round))\n",
    "            elif wins1 > wins2:\n",
    "                winners.append(c1)\n",
    "                fitness_list.append((c2,i_round))\n",
    "            else:\n",
    "                winners.append(c2)\n",
    "                fitness_list.append((c1,i_round))\n",
    "                \n",
    "        if len(winners) > 1:\n",
    "            do_round(winners,i_round+1)\n",
    "        else:\n",
    "            fitness_list.append((winners[0], i_round+1))\n",
    "    \n",
    "    random.shuffle(population) #modifica var. population, devolve None\n",
    "    do_round(population, 1) #constroi a fitness_list\n",
    "    \n",
    "    return fitness_list"
   ]
  },
  {
   "cell_type": "markdown",
   "metadata": {},
   "source": [
    "Exemplo de como fazer uma competição tipo taça entre `population` previamente gerada, no jogo Rastros e com 4 pares de jogos para cada um dos limites 2 e 3 por duelo:"
   ]
  },
  {
   "cell_type": "code",
   "execution_count": 14,
   "metadata": {},
   "outputs": [
    {
     "name": "stdout",
     "output_type": "stream",
     "text": [
      "[([-232, -913], 1), ([549, -783], 1), ([640, 783], 1), ([525, 702], 1), ([901, -557], 2), ([-677, 984], 2), ([777, 466], 3), ([-890, 341], 4)]\n"
     ]
    }
   ],
   "source": [
    "pop_fitness = do_cup_competition(population, Rastros, 4, [2,3])\n",
    "print(pop_fitness)"
   ]
  },
  {
   "cell_type": "markdown",
   "metadata": {},
   "source": [
    "### Seleção por torneio de K\n",
    "Na seleção por K torneio, K cromossomas são inicialmente escolhidos aleatoriamente de uma população e desses K o que tiver maior fitness é selecionado.\n",
    "\n",
    "Na implementação da seleção por torneio de K que se segue, a população é a tabela de fitness e por defeito o K é 2. Para aferir que a função escolhe o cromossoma com maior fitness corretamente é dada a opção de passar o argumento `verbose`, que por defeito é False."
   ]
  },
  {
   "cell_type": "code",
   "execution_count": 15,
   "metadata": {},
   "outputs": [],
   "source": [
    "def do_tournament_selection(fitness_table, k_rivais=2, verbose=False):      \n",
    "    highest_fitness = 0\n",
    "    best_chromosome = None\n",
    "    \n",
    "    k_choices = random.choices(population=fitness_table, k=k_rivais)\n",
    "    if verbose:\n",
    "        print(\"tournament selected chromosomes: \", k_choices)\n",
    "        \n",
    "    for chrom_fit in k_choices:\n",
    "        if chrom_fit[1] > highest_fitness:\n",
    "            highest_fitness = chrom_fit[1]\n",
    "            best_chromosome = chrom_fit[0]\n",
    "    \n",
    "    return best_chromosome"
   ]
  },
  {
   "cell_type": "markdown",
   "metadata": {},
   "source": [
    "Exemplo de uso com a tabela de fitness sendo aquela obtida anteriormente (`pop_fitness`):"
   ]
  },
  {
   "cell_type": "code",
   "execution_count": 16,
   "metadata": {},
   "outputs": [
    {
     "name": "stdout",
     "output_type": "stream",
     "text": [
      "tournament selected chromosomes:  [([-890, 341], 4), ([-677, 984], 2)]\n",
      "highest fitness chromosome:  [-890, 341]\n"
     ]
    }
   ],
   "source": [
    "selected_chrom = do_tournament_selection(pop_fitness, verbose=True)\n",
    "print(\"highest fitness chromosome: \", selected_chrom)"
   ]
  },
  {
   "cell_type": "markdown",
   "metadata": {},
   "source": [
    "### Geração dos dois descendentes por cruzamento de 1 ponto de corte\n",
    "A partir de dois cromossomas progenitores serão gerados dois descendentes de modo que a parte esquerda do cromossoma do progenitor 1 se combine com a parte direita do progenitor 2 e a parte direita do progenitor 1 se combine com a parte esquerda do do progenitor 2. O ponto que define uma parte é escolhido aleatoriamente de modo a que um progenitor passe sempre pelo menos um gene e é assumido que ambos os progenitores têm um número igual de genes (e logo que cada cromossoma da população terá sempre um número igual de genes).\n",
    "\n",
    "A função que implementa este processo é definida do seguinte modo:"
   ]
  },
  {
   "cell_type": "code",
   "execution_count": 17,
   "metadata": {},
   "outputs": [],
   "source": [
    "def generate_2_descendents(parent1, parent2):\n",
    "    char_num = len(parent1)\n",
    "    cut_point = random.randrange(1, char_num)\n",
    "    f1 = parent1[:cut_point] + parent2[cut_point:]\n",
    "    f2 = parent2[:cut_point] + parent1[cut_point:]\n",
    "    return f1,f2"
   ]
  },
  {
   "cell_type": "markdown",
   "metadata": {},
   "source": [
    "Uso da função assumindo como progenitores os cromossomas [2,3,4] e [5,6,7]:"
   ]
  },
  {
   "cell_type": "code",
   "execution_count": 18,
   "metadata": {},
   "outputs": [
    {
     "name": "stdout",
     "output_type": "stream",
     "text": [
      "descendentes:  [2, 3, 7] [5, 6, 4]\n"
     ]
    }
   ],
   "source": [
    "desc1, desc2 = generate_2_descendents([2,3,4], [5,6,7])\n",
    "print(\"descendentes: \",desc1,desc2)"
   ]
  },
  {
   "cell_type": "markdown",
   "metadata": {},
   "source": [
    "Para estar correto neste caso, os descendentes têm de ser ou [2, 3, 7] e [5, 6, 4] ou [2, 6, 7] e [5, 3, 4]."
   ]
  },
  {
   "cell_type": "markdown",
   "metadata": {},
   "source": [
    "### Possibilidade de mutação (em todos os genes)\n",
    "Cada gene do novo cromossoma terá uma certa chance (`p_mut`) de ser alterado somando um valor inteiro escolhido aleatoriamente do intervalo [-`mut_range`,`mut_range`]. `mut_range` tem de ser um inteiro positivo e por defeito é 10.\n",
    "\n",
    "Este comportamente está definido na seguinte função:"
   ]
  },
  {
   "cell_type": "code",
   "execution_count": 19,
   "metadata": {},
   "outputs": [],
   "source": [
    "def mutate_all_genes(chromossome, p_mut, mut_range=10):       \n",
    "    new_chrom = []\n",
    "    for c in chromossome:\n",
    "        if random.uniform(0, 1) <= p_mut: \n",
    "            new_carac = c + random.randrange(-mut_range, mut_range+1)\n",
    "            new_chrom.append(new_carac)\n",
    "        else:\n",
    "            new_chrom.append(c)\n",
    "    return new_chrom"
   ]
  },
  {
   "cell_type": "markdown",
   "metadata": {},
   "source": [
    "Exemplo da mutação do cromossoma [45,1,-10] com 15% chance de cada gene se alterar."
   ]
  },
  {
   "cell_type": "code",
   "execution_count": 20,
   "metadata": {},
   "outputs": [
    {
     "name": "stdout",
     "output_type": "stream",
     "text": [
      "[45, 1, -10]\n"
     ]
    }
   ],
   "source": [
    "mutated = mutate_all_genes([45,1,-10], 0.15)\n",
    "print(mutated)"
   ]
  },
  {
   "cell_type": "markdown",
   "metadata": {},
   "source": [
    "### Formação da geração seguinte (e uso do elitismo)\n",
    "Como é necessário que população seja uma potência de dois, aumentar a população traduz-se no seu aumento exponencial (duplica) após cada nova geração, e isso torna o algoritmo impraticável em tempo útil para um grande número de gerações. Assim sendo, a geração seguinte terá sempre o mesmo tamanho de população que a geração que a produz, ou seja o tamanho da população será sempre constante.\n",
    "\n",
    "O primeiro passo na formação da nova geração é a aplicação de um mecanismo de elitismo à geração progenitora sendo que o número de elites (`elite_size`) será a percentagem `p_elit` do tamanho da população. Usando a tabela de fitness (`fitness_table`) resultante da competição tipo taça, selecionam-se os N=`elite_size` individuos com maior fitness para se juntarem à nova geração. Na implementação assume-se que `fitness_table` está ordenado por ordem de fitness crescente.\n",
    "\n",
    "Para popular o restante da nova geração são gerados novos cromossomas. O processo de geração consiste em primeiro fazem-se duas seleções por torneio de K, uma por progenitor, de seguida os dois progenitores geram dois cromossomas descendentes, finalmente, aplica-se a função de mutação aos descendentes e adicionam-se ambos os resultados à nova geração. Este processo repete-se até que o tamanho da nova geração seja igual ao da geração progenitora.\n",
    "\n",
    "Segue-se a implementação:"
   ]
  },
  {
   "cell_type": "code",
   "execution_count": 21,
   "metadata": {},
   "outputs": [],
   "source": [
    "def generate_new_gen_with_elitism(fitness_table, p_elit, k_rivais, p_mut):\n",
    "    new_gen = []\n",
    "    pop_size = len(fitness_table)\n",
    "    \n",
    "    elite_size = round(pop_size * p_elit)\n",
    "    non_elite_size = pop_size - elite_size\n",
    "    #assume-se que fitness_table está ordenado por ordem de fitness crescente\n",
    "    for i in range(pop_size-1, non_elite_size-1, -1):        \n",
    "        new_gen.append(fitness_table[i][0])    \n",
    "    \n",
    "    for i in range(int(non_elite_size/2)):\n",
    "        parent1 = do_tournament_selection(fitness_table, k_rivais)\n",
    "        parent2 = do_tournament_selection(fitness_table, k_rivais)\n",
    "        \n",
    "        desc1, desc2 = generate_2_descendents(parent1, parent2)\n",
    "        \n",
    "        m_desc1 = mutate_all_genes(desc1, p_mut)\n",
    "        m_desc2 = mutate_all_genes(desc2, p_mut)\n",
    "        \n",
    "        new_gen.append(m_desc1)\n",
    "        new_gen.append(m_desc2)\n",
    "        \n",
    "    diff_gen_sizes = pop_size - len(new_gen)\n",
    "    if diff_gen_sizes != 0: #falta +1 individuo para gerar\n",
    "        parent1 = do_tournament_selection(fitness_table, k_rivais)\n",
    "        parent2 = do_tournament_selection(fitness_table, k_rivais)        \n",
    "        desc1, _ = generate_2_descendents(parent1, parent2)  \n",
    "        m_desc1 = mutate_all_genes(desc1, p_mut)\n",
    "        new_gen.append(m_desc1)\n",
    "        \n",
    "    return new_gen"
   ]
  },
  {
   "cell_type": "markdown",
   "metadata": {},
   "source": [
    "Exemplo de geração de uma nova geração a partir da geração anterior (`pop_fitness`), com 20% de elitismo, seleção de K=3 e 10% chance de mutações:"
   ]
  },
  {
   "cell_type": "code",
   "execution_count": 22,
   "metadata": {},
   "outputs": [
    {
     "name": "stdout",
     "output_type": "stream",
     "text": [
      "[[-890, 341], [777, 466], [-677, -557], [901, 986], [549, 984], [-670, -783], [640, -557], [901, 783]]\n"
     ]
    }
   ],
   "source": [
    "new_gen = generate_new_gen_with_elitism(pop_fitness, 0.2, 3, 0.1)\n",
    "print(new_gen)"
   ]
  },
  {
   "cell_type": "markdown",
   "metadata": {},
   "source": [
    "Neste caso, os dois primeiros cromossomas são as elites e se, usando os mesmos parâmetros, se se repetir o processo de geração, devem-se obter os mesmos dois individuos elites, [590, 56] e [-183, 45]:"
   ]
  },
  {
   "cell_type": "code",
   "execution_count": 23,
   "metadata": {},
   "outputs": [
    {
     "name": "stdout",
     "output_type": "stream",
     "text": [
      "[[-890, 341], [777, 466], [-890, 783], [640, 341], [-677, 466], [777, 984], [-677, 466], [777, 984]]\n"
     ]
    }
   ],
   "source": [
    "new_gen = generate_new_gen_with_elitism(pop_fitness, 0.2, 3, 0.1)\n",
    "print(new_gen)"
   ]
  },
  {
   "cell_type": "markdown",
   "metadata": {},
   "source": [
    "### Função principal `coevol`\n",
    "Começa-se por gerar a população inicial e segue-se o processo de coevolução:\n",
    "1. Determina-se o fitness da população usando a função `do_cup_competition`\n",
    "2. Gera-se a nova geração usando a função `generate_new_gen_with_elitism`\n",
    "\n",
    "Este processo repete-se tantas vezes quantas as gerações que forem pretendidas e na ultima geração determina-se o fitness da população evoluida (`do_cup_competition`) para aferir o melhor cromossoma.\n",
    "\n",
    "Ao longo da coevolução é construída uma lista com os melhores cromossomas de cada geração e respetivos fitness. Essa lista é o que a função devolve. Visto que a população se mantém constante e o nível de fitness depende do tamanho da população (devido à competição tipo taça), o fitness não serve para comparar cromossomas de gerações diferentes. Os melhores cromossomas de cada geração terão por isso o mesmo nível numérico de fitness.\n",
    "\n",
    "De notar que são usadas globais (`p_chromossome` e `list_fun_caracts`) para integrar a função de avaliação do alfabeta com os cromossomas neste notebook, o que torna mais fácil a elaboração passo a passo do relatório. Em IA2021-proj3-42.py o algoritmo na sua totalidade é encapsulado numa classe, para que não hajam globais.\n",
    "\n",
    "Segue-se então a função `coevol`:"
   ]
  },
  {
   "cell_type": "code",
   "execution_count": 29,
   "metadata": {},
   "outputs": [],
   "source": [
    "def coevol(gen,dim,gene_pool,elit,p_mut,k_rivais,lim_profs,n_jogos,jogo,caracts):\n",
    "    list_fun_caracts = caracts #global neste notebook\n",
    "    best_chromosomes = []\n",
    "    \n",
    "    population = init_population(dim, gene_pool, len(caracts))\n",
    "    \n",
    "    for i in range(gen):\n",
    "        pop_fitness = do_cup_competition(population, jogo, n_jogos, lim_profs)   \n",
    "        best_chromosomes.append(pop_fitness[-1])\n",
    "        \n",
    "        population = generate_new_gen_with_elitism(pop_fitness, elit, k_rivais, p_mut)\n",
    "        \n",
    "    pop_fitness = do_cup_competition(population, jogo, n_jogos, lim_profs)   \n",
    "    best_chromosomes.append(pop_fitness[-1])\n",
    "    \n",
    "    return best_chromosomes"
   ]
  },
  {
   "cell_type": "markdown",
   "metadata": {},
   "source": [
    "### Execução do algoritmo de coevolução para o jogo Rastros\n",
    "Execução do algoritmo de coevolução para o jogo Rastros com distância à base e distância ao objectivo como características e limites do alfabeta 1 e 2:"
   ]
  },
  {
   "cell_type": "code",
   "execution_count": 30,
   "metadata": {},
   "outputs": [
    {
     "name": "stdout",
     "output_type": "stream",
     "text": [
      "Melhor da geração  0 :  [-606, 815]  com fitness  6\n",
      "Melhor da geração  1 :  [-368, 458]  com fitness  6\n",
      "Melhor da geração  2 :  [-302, 316]  com fitness  6\n",
      "Melhor da geração  3 :  [945, 322]  com fitness  6\n",
      "Melhor da geração  4 :  [-368, 111]  com fitness  6\n",
      "Melhor da geração  5 :  [-368, 111]  com fitness  6\n",
      "Melhor da geração  6 :  [-361, 692]  com fitness  6\n",
      "Melhor da geração  7 :  [-302, 123]  com fitness  6\n",
      "Melhor da geração  8 :  [-368, 692]  com fitness  6\n",
      "Melhor da geração  9 :  [810, 456]  com fitness  6\n",
      "Melhor da geração  10 :  [-368, 463]  com fitness  6\n",
      "Melhor da geração  11 :  [-305, 693]  com fitness  6\n",
      "Melhor da geração  12 :  [811, 698]  com fitness  6\n",
      "Melhor da geração  13 :  [-305, 434]  com fitness  6\n",
      "Melhor da geração  14 :  [-368, 693]  com fitness  6\n",
      "Melhor da geração  15 :  [808, 693]  com fitness  6\n",
      "Melhor da geração  16 :  [-304, 700]  com fitness  6\n",
      "Melhor da geração  17 :  [-313, 462]  com fitness  6\n",
      "Melhor da geração  18 :  [-368, 693]  com fitness  6\n",
      "Melhor da geração  19 :  [-305, 477]  com fitness  6\n",
      "Melhor da geração  20 :  [-284, 435]  com fitness  6\n"
     ]
    }
   ],
   "source": [
    "gen = 20\n",
    "dim = 32\n",
    "gene_pool = [i for i in range(-1000,1001,1)]\n",
    "elit = 0.2\n",
    "p_mut = 0.25\n",
    "k_rivais = 2 #SyntaxError: non-default argument follows default argument (não dá para meter k_rivais=2 por defeito em coevol sem trocar a ordem dos argumentos)\n",
    "lim_profs = [1,2]\n",
    "n_jogos = 5\n",
    "jogo = Rastros\n",
    "caracts = [dist_base, dist_obj]\n",
    "\n",
    "best_chromosomes = coevol(gen,dim,gene_pool,elit,p_mut,k_rivais,lim_profs,n_jogos,jogo,caracts)\n",
    "\n",
    "for i, c in enumerate(best_chromosomes):\n",
    "    print(\"Melhor da geração \", i, \": \", c[0], \" com fitness \", c[1])"
   ]
  },
  {
   "cell_type": "markdown",
   "metadata": {},
   "source": [
    "Segue-se a execução do algoritmo, mantendo os parâmetros anteriores mas com uma função característica adicional (`general_eval_42`) usada no projeto 2.\n",
    "\n",
    "A definição da função característica:"
   ]
  },
  {
   "cell_type": "code",
   "execution_count": 32,
   "metadata": {},
   "outputs": [],
   "source": [
    "def general_eval_42(state, player):\n",
    "    goal = (8, 1)\n",
    "    if player == \"N\":\n",
    "        goal = (1, 8)\n",
    "    move_score = 0\n",
    "    num_moves = 0\n",
    "    for move in state.moves():\n",
    "        for sub_move in moves_from_point_42(move, state):\n",
    "            s_score = dist(move, goal) - dist(sub_move,goal)\n",
    "            move_score += s_score\n",
    "            num_moves += 1\n",
    "    if num_moves == 0:\n",
    "        return 3\n",
    "    return (move_score / num_moves)"
   ]
  },
  {
   "cell_type": "markdown",
   "metadata": {},
   "source": [
    "A execução:"
   ]
  },
  {
   "cell_type": "code",
   "execution_count": 33,
   "metadata": {},
   "outputs": [
    {
     "name": "stdout",
     "output_type": "stream",
     "text": [
      "Melhor da geração  0 :  [-240, -36, -76]  com fitness  6\n",
      "Melhor da geração  1 :  [-240, -36, -76]  com fitness  6\n",
      "Melhor da geração  2 :  [125, 426, -76]  com fitness  6\n",
      "Melhor da geração  3 :  [-854, 983, -744]  com fitness  6\n",
      "Melhor da geração  4 :  [138, 90, -745]  com fitness  6\n",
      "Melhor da geração  5 :  [138, 90, -745]  com fitness  6\n",
      "Melhor da geração  6 :  [125, 84, 666]  com fitness  6\n",
      "Melhor da geração  7 :  [125, 84, 507]  com fitness  6\n",
      "Melhor da geração  8 :  [124, 97, 656]  com fitness  6\n",
      "Melhor da geração  9 :  [-590, -191, 507]  com fitness  6\n",
      "Melhor da geração  10 :  [125, 113, 669]  com fitness  6\n",
      "Melhor da geração  11 :  [-73, -191, 651]  com fitness  6\n",
      "Melhor da geração  12 :  [-73, -201, 651]  com fitness  6\n",
      "Melhor da geração  13 :  [-578, 83, -741]  com fitness  6\n",
      "Melhor da geração  14 :  [-578, -38, 303]  com fitness  6\n",
      "Melhor da geração  15 :  [-578, -38, 303]  com fitness  6\n",
      "Melhor da geração  16 :  [-73, 93, 652]  com fitness  6\n",
      "Melhor da geração  17 :  [-73, -191, 651]  com fitness  6\n",
      "Melhor da geração  18 :  [132, -727, 662]  com fitness  6\n",
      "Melhor da geração  19 :  [-573, -191, 651]  com fitness  6\n",
      "Melhor da geração  20 :  [-83, 93, 666]  com fitness  6\n"
     ]
    }
   ],
   "source": [
    "caracts = [dist_base, dist_obj, general_eval_42]\n",
    "\n",
    "best_chromosomes = coevol(gen,dim,gene_pool,elit,p_mut,k_rivais,lim_profs,n_jogos,jogo,caracts)\n",
    "\n",
    "for i, c in enumerate(best_chromosomes):\n",
    "    print(\"Melhor da geração \", i, \": \", c[0], \" com fitness \", c[1])"
   ]
  },
  {
   "cell_type": "markdown",
   "metadata": {},
   "source": [
    "Execução do algoritmo com limites de profundidade do alfabeta 4 e 5, incluindo a função característica adicional (general_eval_42). São usados os seguintes parâmetros:"
   ]
  },
  {
   "cell_type": "code",
   "execution_count": null,
   "metadata": {},
   "outputs": [],
   "source": [
    "gen = 20\n",
    "dim = 32\n",
    "gene_pool = [i for i in range(-1000,1001,1)]\n",
    "elit = 0.2\n",
    "p_mut = 0.25\n",
    "k_rivais = 2\n",
    "lim_profs = [4,5]\n",
    "n_jogos = 5\n",
    "jogo = Rastros\n",
    "caracts = [dist_base, dist_obj, general_eval_42]"
   ]
  },
  {
   "cell_type": "markdown",
   "metadata": {},
   "source": [
    "A execução:"
   ]
  },
  {
   "cell_type": "code",
   "execution_count": null,
   "metadata": {},
   "outputs": [],
   "source": [
    "best_chromosomes = coevol(gen,dim,gene_pool,elit,p_mut,k_rivais,lim_profs,n_jogos,jogo,caracts)\n",
    "\n",
    "for i, c in enumerate(best_chromosomes):\n",
    "    print(\"Melhor da geração \", i, \": \", c[0], \" com fitness \", c[1])"
   ]
  },
  {
   "cell_type": "markdown",
   "metadata": {},
   "source": [
    "### Usando o algoritmo de coevolução para outros jogos - Exemplo do jogo do Galo (extra)\n",
    "Demonstrem que o algoritmo de coevolução não está feito apenas para o Rastros e que pode ser usado com outros jogos, por exemplo o Jogo do Galo (objecto de uma das PLs) com características que voçês próprios podem inventar. Sugerimos 4 funções características básicas: o número de centros que tenho, o número de centros que ele tem, o número de cantos que tenho, o número de cantos que ele tem. Incluam a classe Galo.py com a modelização do jogo do Galo e suas funções características, no ficheiro onde está o vosso código. "
   ]
  },
  {
   "cell_type": "code",
   "execution_count": null,
   "metadata": {},
   "outputs": [],
   "source": []
  }
 ],
 "metadata": {
  "colab": {
   "collapsed_sections": [],
   "name": "Untitled0.ipynb",
   "provenance": [],
   "version": "0.3.2"
  },
  "kernelspec": {
   "display_name": "Python 3",
   "language": "python",
   "name": "python3"
  },
  "language_info": {
   "codemirror_mode": {
    "name": "ipython",
    "version": 3
   },
   "file_extension": ".py",
   "mimetype": "text/x-python",
   "name": "python",
   "nbconvert_exporter": "python",
   "pygments_lexer": "ipython3",
   "version": "3.8.3"
  }
 },
 "nbformat": 4,
 "nbformat_minor": 4
}
