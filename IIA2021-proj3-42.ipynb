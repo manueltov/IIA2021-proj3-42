{
 "cells": [
  {
   "cell_type": "markdown",
   "metadata": {
    "colab_type": "text",
    "id": "LekFEsVbua_R"
   },
   "source": [
    "#  Coevolução no jogo Rastros\n",
    "## Projeto nº 3\n",
    "### Introdução à Inteligência Artificial - edição 2020/21\n",
    "\n",
    "\n",
    "## Grupo: 42\n",
    "\n",
    "### Elementos do Grupo\n",
    "\n",
    "Nome: Ivo Veiga\n",
    "\n",
    "Número: 44865\n",
    "\n",
    "Nome: João Silva\n",
    "\n",
    "Número: 48782\n",
    "\n",
    "Nome: Manuel Tovar\n",
    "\n",
    "Número: 49522"
   ]
  },
  {
   "cell_type": "markdown",
   "metadata": {},
   "source": [
    "## Relatório"
   ]
  },
  {
   "cell_type": "markdown",
   "metadata": {},
   "source": [
    "### Funções características do jogo Rastros\n",
    "explicação..."
   ]
  },
  {
   "cell_type": "code",
   "execution_count": null,
   "metadata": {},
   "outputs": [],
   "source": []
  },
  {
   "cell_type": "markdown",
   "metadata": {},
   "source": [
    "### População inicial\n",
    "explicação..."
   ]
  },
  {
   "cell_type": "code",
   "execution_count": null,
   "metadata": {},
   "outputs": [],
   "source": []
  },
  {
   "cell_type": "markdown",
   "metadata": {},
   "source": [
    "### Fitness: competição tipo taça\n",
    "explicação..."
   ]
  },
  {
   "cell_type": "markdown",
   "metadata": {},
   "source": [
    "### Seleção por torneio\n",
    "explicação..."
   ]
  },
  {
   "cell_type": "markdown",
   "metadata": {},
   "source": []
  },
  {
   "cell_type": "markdown",
   "metadata": {},
   "source": [
    "### Geração dos dois descendentes por cruzamento de 1 ponto de corte\n",
    "explicação..."
   ]
  },
  {
   "cell_type": "code",
   "execution_count": null,
   "metadata": {},
   "outputs": [],
   "source": []
  },
  {
   "cell_type": "markdown",
   "metadata": {},
   "source": [
    "### Pssibilidade de mutação (em todos os genes)\n",
    "explicação..."
   ]
  },
  {
   "cell_type": "code",
   "execution_count": null,
   "metadata": {},
   "outputs": [],
   "source": []
  },
  {
   "cell_type": "markdown",
   "metadata": {},
   "source": [
    "### Uso do elitismo\n",
    "explicação..."
   ]
  },
  {
   "cell_type": "code",
   "execution_count": null,
   "metadata": {},
   "outputs": [],
   "source": []
  },
  {
   "cell_type": "markdown",
   "metadata": {},
   "source": [
    "### Formação da geração seguinte, dada uma geração\n",
    "explicação..."
   ]
  },
  {
   "cell_type": "code",
   "execution_count": null,
   "metadata": {},
   "outputs": [],
   "source": []
  },
  {
   "cell_type": "markdown",
   "metadata": {},
   "source": [
    "### Função principal\n",
    "explicação..."
   ]
  },
  {
   "cell_type": "code",
   "execution_count": null,
   "metadata": {},
   "outputs": [],
   "source": []
  },
  {
   "cell_type": "markdown",
   "metadata": {},
   "source": [
    "### Execução do algoritmo de coevolução para o jogo Rastros\n",
    "explicação... executando o alfabeta para uma profundidade limitada a 2 e a 1"
   ]
  },
  {
   "cell_type": "code",
   "execution_count": null,
   "metadata": {},
   "outputs": [],
   "source": []
  },
  {
   "cell_type": "markdown",
   "metadata": {},
   "source": [
    "resultado das evoluções para o Rastros para limites de profundidades maiores  (por exemplo, 4 e 5): (melhorar este texto no fim...)"
   ]
  },
  {
   "cell_type": "code",
   "execution_count": null,
   "metadata": {},
   "outputs": [],
   "source": []
  },
  {
   "cell_type": "markdown",
   "metadata": {},
   "source": [
    "### Usando o algoritmo de coevolução para outros jogos\n",
    "explicação... (tic tac toe de uma das tps, 4 características básicas do tipo: o número de centros que tenho, o número de centros que ele tem, o número de cantos que tenho, o número de cantos que ele tem)"
   ]
  },
  {
   "cell_type": "code",
   "execution_count": null,
   "metadata": {},
   "outputs": [],
   "source": []
  }
 ],
 "metadata": {
  "colab": {
   "collapsed_sections": [],
   "name": "Untitled0.ipynb",
   "provenance": [],
   "version": "0.3.2"
  },
  "kernelspec": {
   "display_name": "Python 3",
   "language": "python",
   "name": "python3"
  },
  "language_info": {
   "codemirror_mode": {
    "name": "ipython",
    "version": 3
   },
   "file_extension": ".py",
   "mimetype": "text/x-python",
   "name": "python",
   "nbconvert_exporter": "python",
   "pygments_lexer": "ipython3",
   "version": "3.8.3"
  }
 },
 "nbformat": 4,
 "nbformat_minor": 4
}
