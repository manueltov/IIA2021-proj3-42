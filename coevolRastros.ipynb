{
 "cells": [
  {
   "cell_type": "markdown",
   "metadata": {},
   "source": [
    "#  Coevolução no jogo Rastros\n",
    "## Projeto nº 3\n",
    "### Introdução à Inteligência Artificial - edição 2020/21\n",
    "#### Entrega: 29 de Novembro (1m antes da meia-noite)\n",
    "\n",
    "<img src=\"mobile_relax.gif\" alt=\"Drawing\" style=\"width: 250px;\"/>\n"
   ]
  },
  {
   "cell_type": "markdown",
   "metadata": {
    "colab_type": "text",
    "id": "LekFEsVbua_R"
   },
   "source": [
    "## Algoritmos coevolucionários\n",
    "\n",
    "Nos algoritmos evolucionários tradicionais tradicionais o fitness dos indivíduos que fazem parte da população é independente dos outros indivíduos. É o exemplo das N raínhas em que cada elemento da população representa uma dada disposição das N raínhas no tabuleiro e em que o fitness calcula o número de pares de raínhas que não se atacam. Neste caso, o fitness de um indivíduo não depende de modo nenhum das outras disposições das N raínhas correspondentes aos outros indivíduos.\n",
    "\n",
    "Há algoritmos evolucionários em que existe essa dependência entre os indivíduos da população no cálculo da função de fitness de cada indivíduo. Esse fitness individual pode resultar da cooperação ou competição entre os pares, i.e. entre os indivíduos da população.\n",
    "\n",
    "### Coevolução para a evolução dos pesos de uma função de avaliação, para uso com o minimax.\n",
    "\n",
    "No mundo da procura com adversário, em que se usam variantes do algoritmo minimax (o alfabeta, por exemplo) a uma profundidade limitada, para a decisão da jogada a fazer por cada jogador, a função de avaliação estática é fundamental. Em geral, essa função, nos estados não terminais (diferentes de derrota, empate ou vitória) pode ser definida como uma combinação linear de várias características detectadas ou medidas no estado do jogo e dependentes do jogador que está a decidir a sua melhor jogada.\n",
    "\n",
    "$$linear(jogador,estado) = \\sum_{y} P_{y}C_{y}(jogador,estado)$$\n",
    "\n",
    "Por exemplo, no jogo do Rastros, que todos conhecem por ter sido objecto do segundo projecto, podemos considerar as duas características: distância à base e distância ao objectivo, que estariam implementadas em `distBase` e `distObj`e que a função de avaliação, nos casos em que os jogos não são terminais, é dada por:\n",
    "\n",
    "$$linear(jogador,estado) = p_{1}*distBase(jogador,estado) + p_{2}*distObj(jogador,estado)$$\n",
    "\n",
    "A função de avaliação considerando os estados terminais e não terminais, para os pesos $p_{1}$ e $p_{2}$, será equivalente à função seguinte:\n",
    "\n",
    "```python\n",
    "def f_eval(jogador,estado):\n",
    "    if vitória(jogador,estado):\n",
    "        return infinity\n",
    "    elif derrota(jogador,estado):\n",
    "        return -infinity\n",
    "    else:\n",
    "        return linear(jogador,estado)\n",
    "```\n",
    "Na maior parte dos casos a afinação dos valores dos pesos, fixadas as funções que medem as características, pode ser um processo difícil e demorado de tentativa e erro.\n",
    "\n",
    "Para evoluir os pesos, podemos utilizar um algoritmo coevolucionário em que os cromossomas são uma cadeia de genes que correspondem à cadeia de pesos e em que a pool de genes pode ser formada por uma gama de inteiros: [inf,sup], indicando os valores possíveis para cada peso. Por exemplo, no caso do exemplo do rastos com as duas características referidas em cima, os cromossomas serão cadeias de dois genes e podemos imaginar que a pool de genes pode variar em [-1000,1000]. Um cromossoma ou indivíduo pode ser [12,-200] e nesse caso corresponde ao jogador que usa o alfabeta limitado com a função de avaliação equivalente à seguinte:\n",
    "\n",
    "```python\n",
    "def f_eval(jogador,estado):\n",
    "    if vitória(jogador,estado):\n",
    "        return infinity\n",
    "    elif derrota(jogador,estado):\n",
    "        return -infinity\n",
    "    else:\n",
    "        return 12*distBase(player,state) -200*distObj(player,state)\n",
    "```"
   ]
  },
  {
   "cell_type": "markdown",
   "metadata": {},
   "source": [
    "### Cálculo do fitness\n",
    "O processo deste algoritmo coevolucionário de uma só população (porque existem variantes com mais do que uma população) é de contexto competitivo, porque o cálculo da função de fitness vai depender de um processo competitivo entre os vários indivíduos ou jogadores. Após finalizar a formação da nova geração, realiza-se uma competição entre os vários indivíduos para determinar os respectivos valores de fitnesses.\n",
    "\n",
    "#### Fitness por round-robin (campeonato)\n",
    "Essa competição pode ser do tipo \"round-robin\" em que todos jogam entre si uma série de pares de jogos em que em cada par desempenham os dois papéis: serem os primeiros e segundos a jogar, e em que no final cada um terá como fitness o número de vitórias conseguidas (notem que em jogos em que há empates, é relevante dar um valor para os empates distinto do valor das vitórias e somar a pontuação total).\n",
    "\n",
    "#### Fitness tipo taça\n",
    "Neste caso, é necessário que o número de elementos seja uma potência de 2: 2, 4, 8, 16, 32 .... Nesta competição em cada ronda formam-se pares de equipas aleatoriamente e cada par de equipas realiza um número par de jogos e que em cada metade de jogos é o jogador que abre o jogo. Só os vencedores de cada par é que passam à ronda seguinte. O fitness de cada indivíduo corresponde à ronda final. Por exemplo, se tivermos 8 equipas, isso quer dizer que 4 jogadores (os perdedores da primeira ronda) terão fitness 1, pois só se aguentam até à primeira ronda, dois deles (os que perderam na segunda ronda) terão fitness 2, um deles terá fitness 3 (perdedor da final) e apenas 1, o vencedor, terá fitness 4. Notem que drantes um duelo entre dois jogadores, as suas pontuações podem ser exactamente iguais, num empaté técnico, e nesse caso o vencedor é escolhido de forma aleatória.\n",
    "\n",
    "Notem que o fitness de um indivíduo, nestes dois contextos competitivos, não corresponde a um valor absoluto mas é antes relativo aos adversários. Isso quer dizer que o mesmo jogador em duas populações diferentes pode ter fitnesses diferentes."
   ]
  },
  {
   "cell_type": "markdown",
   "metadata": {},
   "source": [
    "### Selecção/Cruzamento/Mutação\n",
    "Nos algoritmos coevolucionários poderemos utilizar os mesmos operadores de variação, herediriedade e de selecção usados nos algoritmos evolucionários tradicionais em que temos fitnesses absolutos e não relativos. Há variantes que se podem implementar em cada um destes mecanismos, por exemplo, a selecção por torneio, a tentativa de mutação dos vários genes dos cromossomas e não apenas de uma e por exemplo cruzamentos entre dois cromossomas de que resultam dois descendentes."
   ]
  },
  {
   "cell_type": "markdown",
   "metadata": {},
   "source": [
    "### Formação da geração seguinte\n",
    "\n",
    "#### Um ou dois descendentes resultam dos cruzamentos\n",
    "Podemos considerar que os cruzamentos de um ponto de corte podem gerar não um mas dois descendentes. A parte esquerda do cromossoma do progenitor 1 combina-se com a parte direita do progenitor 2 e a parte esquerda do primeiro progenitor pode combinar-se com a parte direita do segundo.\n",
    "\n",
    "#### Elitismo\n",
    "Uma forma de tentar manter o melhor indivíduo de uma geração na geração seguinte é implementar um mecanismo de elitismo. Por exemplo, podemos querer passar para a geração seguinte 20% dos melhores indivíduos da geração corrente. Se não houver elitismo, pode acontecer que um jogador ótimo (ou próximo disso) desapareça da evolução para sempre porque mesmo que tenha gerado descendentes, estes podem ter sofrido uma mutação perniciosa. "
   ]
  },
  {
   "cell_type": "markdown",
   "metadata": {},
   "source": [
    "### Objetivos\n",
    "\n",
    "* Queremos que partindo da implementação do algoritmo genético em `geneticSolo.py` desenvolvam um algoritmo coevolucionário capaz de evoluir os pesos de parte de uma função de avaliação dada uma lista de funções características para qualquer jogo. Esse algoritmo evolucionário vai usar \n",
    "\n",
    "    * cruzamentos num ponto com geração de dois descendentes, \n",
    "    * fitness tipo taça, em que se realizem jogos entre os jogadores considerando pelo menos 2 limites de profundidade (um par e o outro ímpar)\n",
    "    * selecção para reprodução através do método de torneio de K, que pode ser de 2 por defeito.\n",
    "    * o mecanismo que permita ter uma percentagem de elitismo. (devem arredondar para um número par de jogadores de elite)\n",
    "\n",
    "Notem que os valores de fitness resultam da competição tipo taça em que cada cromossoma corresponde a um jogador que utiliza o alfabeta até uma profundidade limite e em que utilize o f_eval em cima descrito, fazendo uso dos genes. Tenham cuidado de modo a gerarem populações compostas por um número de individuos que seja uma potência de 2.  Podem fazer uso do código em `jogosPlus.py` e `utils.py`.\n",
    "\n",
    "* Aplicação do algoritmo algoritmo coevolucionário ao jogo Rastros, implementado em `rastros.py` definindo várias funções características."
   ]
  },
  {
   "cell_type": "markdown",
   "metadata": {},
   "source": [
    "### Funções características\n",
    "No mínimo terão de utilizar as duas funções características descritas em cima. No entanto aconselhamos vivamente que utilizem outras funções características que achem interessantes e que até possam ter usado no 2º projecto."
   ]
  },
  {
   "cell_type": "markdown",
   "metadata": {},
   "source": [
    "### Limites da profundidade do alfabeta\n",
    "Podem acelerar a evolução, usando uma profundidade limitada a 3, 2 ou até a 1, só para testarem a correcção do algoritmo que executa a coevolução, mas aconselhamos vivamente que tentem evoluir para profundidades maiores depois do algoritmo de coevolução e aintegração com o Rastros estiverem correctos.\n",
    "\n",
    "É importante que a função de avaliação não dependa do facto de termos limites pares ou ímpares. Reparem que quando o limite de profundidade é ímpar nos estados avaliados é o adversário a jogar a seguir e no caso dos pares é o próprio a jogar a seguir e isso pode fazer a diferença. É conveniente usarem dois ou mias níveis de profundidade (um valor par e um ímpar serão suficientes). Deste modo, por exemplo, para a lista de limites de profundidade [4,5], durante a competição, cada par de jogadores irá realizar um número N (múltiplo de 2) de jogos a um nível de profundidade 4, e depois um número N de jogos a nível 5. O score dos jogadores corresponderá ao número de vitórias nesses 2N jogos."
   ]
  },
  {
   "cell_type": "markdown",
   "metadata": {},
   "source": [
    "### Função principal\n",
    "A função principal deve ter esta assinatura:\n",
    "    \n",
    "***coevol(gen,dim,gene_pool,elit,p_mut,k_rivais,lim_profs,jogo,caracts)*** em que\n",
    "\n",
    "    gen:               número de gerações\n",
    "    dim:               dimensão da população\n",
    "    gene_pool:         a pool de genes\n",
    "    elit:              a percentagem da elite\n",
    "    p_mut:             a probabilidade de mutar cada um dos genes\n",
    "    k_rivais:          o parâmetro k da selecção por torneio (2 por defeito)\n",
    "    lim_profs:         a lista de limites de profundidade para o alfabeta\n",
    "    jogo:              a classe do jogo (a classe Rastros no caso do jogo Rastros)\n",
    "    caracts:           a lista das funcões que medem as características"
   ]
  },
  {
   "cell_type": "markdown",
   "metadata": {},
   "source": [
    "### Teste dos programas\n",
    "Fazendo uso das funcionalidades do notebook que permite a coexistência de texto e código, convém demonstrarem que o algoritmo de coevolução está a brilhar e que a evolução dos pesos da função de avaliação para o jogo Rastros está a funcionar bem.\n",
    "\n",
    "É importante ilustrar:\n",
    "\n",
    "* a formação da geração 0, i.e. a população inicial (dimensão que seja potência de 2)\n",
    "* as funções características utilizadas para o Rastros\n",
    "* a selecção por torneio \n",
    "* a geração dos dois descendentes por cruzamento de 1 ponto de corte\n",
    "* a possibilidade de mutação (em todos os genes)\n",
    "* a execução de uma competição tipo taça e os valores de fitness que resultam\n",
    "* o uso do elitismo\n",
    "* a formação da geração seguinte, dada uma geração\n",
    "* (Podem ilustrar os pontos anteriores para o jogo Rastros executando o alfabeta para uma profundidade limitada a 2 e a 1, para ser mais rápido)\n",
    "* o resultado das evoluções para o Rastros para limites de profundidades maiores  (por exemplo, 4 e 5).\n",
    "* que o algoritmo de coevolução não está feito apenas para o Rastros e que pode ser usado com outros jogos, por exemplo o Tic Tac Toe (objecto de uma das PLs) com 4 características básicas do tipo: o número de centros que tenho, o número de centros que ele tem, o número de cantos que tenho, o número de cantos que ele tem."
   ]
  },
  {
   "cell_type": "markdown",
   "metadata": {},
   "source": [
    "### Ficheiros incluídos\n",
    "Os ficheiros incluídos são principalmente:\n",
    "\n",
    "* `rastros.py` (não alterem nem a classe `Rastros` nem a classe `EstadoRastros`)\n",
    "* `jogos.py`\n",
    "* `utils.py`\n",
    "* `genetic_tutorial.ipynb`  (turotial de algoritmos genéticos)\n",
    "* `geneticSolo.py` (código usado pelo tutorial)\n",
    "* `genetic_algorithm_example.py`(versão GUI do algoritmo genético em `geneticSolo.py`)"
   ]
  },
  {
   "cell_type": "markdown",
   "metadata": {},
   "source": [
    "### Entrega\n",
    "#### Código e Relatório\n",
    "O  relatório é **obrigatório** no formato Jupyter Notebook em `IIA2021-proj3-XX.ipynb` e o código virá à parte num ficheiro `IIA2021-proj3-XX.py` (substituam XX pelo número do grupo). Qualquer trabalho que não tenha relatório ou que não cumpra esse formato não é avaliado e tem 0 de nota.\n",
    "\n",
    "No notebook devem explicar, ilustrar correndo o código e apresentar os testes que fizeram. \n",
    "\n",
    "Não se esqueçam de preencher os nomes e números dos elementos do vosso grupo."
   ]
  },
  {
   "cell_type": "markdown",
   "metadata": {},
   "source": [
    "### Prazo\n",
    "Um zip `IIA2021-proj3-XX.zip` com todo o material incluindo os dois ficheiros `IIA2021-proj3-XX.ipynb` e `IIA2021-proj3-XX.py` até ao dia **29 de Novembro** às 23:59"
   ]
  }
 ],
 "metadata": {
  "colab": {
   "collapsed_sections": [],
   "name": "Untitled0.ipynb",
   "provenance": [],
   "version": "0.3.2"
  },
  "kernelspec": {
   "display_name": "Python 3",
   "language": "python",
   "name": "python3"
  },
  "language_info": {
   "codemirror_mode": {
    "name": "ipython",
    "version": 3
   },
   "file_extension": ".py",
   "mimetype": "text/x-python",
   "name": "python",
   "nbconvert_exporter": "python",
   "pygments_lexer": "ipython3",
   "version": "3.7.1"
  }
 },
 "nbformat": 4,
 "nbformat_minor": 2
}
