{
 "cells": [
  {
   "cell_type": "markdown",
   "metadata": {
    "collapsed": true
   },
   "source": [
    "# Tutorial de Algoritmo Genético\n",
    "\n",
    "<img src=\"images/evolution.gif\" alt=\"Drawing\" style=\"width: 250px;\"/>\n",
    "\n",
    "\n",
    "\n",
    "\n",
    "\n",
    "Este bloco de notas tem material de suporte a parte do tópico coberto no capítulo 4 **Beyond Classical Search** do livro *Artificial Intelligence: A Modern Approach.* Foi traduzido e adaptado do AIMA-python por Paulo Urbano.\n",
    "\n",
    "<img src=\"images/aima3e_big.jpg\" alt=\"Drawing\" style=\"width: 150px;\"/>\n",
    "\n",
    "\n",
    "Utiliza implementações do módulo geneticSolo.py\n",
    "\n",
    "Comecemos por importar esse módulo."
   ]
  },
  {
   "cell_type": "code",
   "execution_count": 1,
   "metadata": {
    "collapsed": true,
    "scrolled": true
   },
   "outputs": [],
   "source": [
    "from geneticSolo import *\n",
    "import time"
   ]
  },
  {
   "cell_type": "markdown",
   "metadata": {},
   "source": [
    "## Os ALGORITMOS GENÉTICOS \n",
    "\n",
    "Os algoritmos genéticos (AG) resultam da inspiração na evolução natural e são particulamete úteis nos problemas de optimização e de procura com espaços de estados muito grandes.\n",
    "\n",
    "Dado um problema, faz uso de uma população de indivíduos onde cada indivíduo representa uma solução admissível. Em cada iteração (geração) a população é renovada usando métodos inspirados na biologia e evolução, tais como *cruzamento*, *mutação* e *selecção natural*"
   ]
  },
  {
   "cell_type": "markdown",
   "metadata": {},
   "source": [
    "### Glossário\n",
    "\n",
    "Antes de continuarmos, vamos apresentar a terminologia básica do algoritmo.\n",
    "\n",
    "* Indivíduo: ou um cromossoma, que é uma lista de elementos (os *genes*) e que representa uma solução possível. Os cromossomas podem ter iguais comprimentos, i.e. o mesmo número de genes, mas podem tabém ter comprimentos distintos. \n",
    "\n",
    "* População: A lista de todos os indivíduos.\n",
    "\n",
    "* Pool Genético: O alfabeto dos valores possíveis para os genes dos indivíduos.\n",
    "\n",
    "* Geração/Iteração: Uma sequência dos passos (2 a 5) anteriormente indicados, em que a população é actualizada (substituída ou refrescada).\n",
    "\n",
    "* Fitness: A pontuação de um indivíduo, calculada através de uma função específica para o problema."
   ]
  },
  {
   "cell_type": "markdown",
   "metadata": {},
   "source": [
    "### Visão global\n",
    "\n",
    "Um algoritmo genético funciona da seguinte maneira:\n",
    "\n",
    "1) Inicializamos uma população aleatória de cromossomas (genoma), em que cada cromossoma é constituído por uma sequência de genes.\n",
    "\n",
    "2) Calculamos o fitness desses cromossomas depois de os traduzirmos em fenótipos.\n",
    "\n",
    "3) Selecionamos indivíduos para reprodução.\n",
    "4) Os indivíduos seleccionados produzem a geração seguinte, através de:\n",
    "\n",
    "     * Cruzamento de cromossoas\n",
    "     * Mutação aleatória de genes.\n",
    "\n",
    "5) Repetimos a partir do passo 2) até que haja um indivíduo suficientemente apto ou até um nº máximo de gerações."
   ]
  },
  {
   "cell_type": "markdown",
   "metadata": {},
   "source": [
    "Os algoritmos genéticos trabalham segundo os princípios da selecção natural Darwiniana, de acordo com a qual, existem 3 princípios chave que têm de estar em jogo para que a evolução aconteça e que são:\n",
    "\n",
    "* **Hereditariedade**: Tem de haver uma forma de os filhos receberem as características dos seus pais. <br>\n",
    "\n",
    "\n",
    "* **Variação**: É absolutamente necessário introduzir variação na população. <br>Se não existir essa possibilidade então o material genético conserva-se e podemos muca atingir um óptimo global.Uma forma de gerar diversidade é inicializar com uma população numerosa mas isso pode ser computacionalmente caro demais. Assim, usa-se frequentemente a operação de mutação. Neste método, podemos mudar aleatoriamente um ou mais genes de um cromossoma de acordo com uma determinada probabilidade, chamada de taxa de mutação. Normalmente esta taxa de mutação é relativamente baixa. Uma taxa de 0 falha no que diz respeito à introdução de variação e uma taxa elevada, como por exemplo 50%, pode ser exagerada impedindo que se beneficie das recombinações anteriores produzindo populações aleatórias. Convém manter um balanço óptimo ou equilibrado entre o tamanho da população e a taxa de mutação de modo a reduzir o elevado custo computacional de manter uma população numerosa e ao mesmo tempo introduzir a variação suficiente sem estar a variar continuamente.\n",
    "\n",
    "\n",
    "* **Selecção**: Tem de existir um mecanismo através do qual os membros da população mais aptos tenham maiores oportunidades de serem progenitores e de passarem assim a respectiva informação genética aos descendentes. Referimo-nos a este processo como a \"sobrevivência dos mais aptos.\". <br>"
   ]
  },
  {
   "cell_type": "markdown",
   "metadata": {},
   "source": [
    "### Cruzamento\n",
    "\n",
    "Dois individuos podem trocar genes e produzir um descendente. Este descendente tem características de ambos os pais. Existem muitas maneiras de implementar a operação de cruzamento. Vamos apresentar as mais comuns. A maior parte dos outros métodos sao variações dos mais comuns, a seguir:\n",
    "\n",
    "* Cruzamento pontual: O cruzamento ocorre à volta de um ponto, comum a ambos os cromossomas. Os cromossomas quebram-se em dois nesse ponto e combinam as partes vindas de cada progenitor. Na figura a seguir vemos dois cromossomas que se quebram no 3º dígito, e a parte anterior a esse dígito de um deles funde-se com a parte que se segue a esse dígito, gerando um novo cromossoma descendente. Notem que se poderia gerar um outro descendente formado pela parte anterior ao 3 dígito do segundo cromossoma com a parte a seguir ao 3º dígito do primeiro cromossoma.\n",
    "\n",
    "![point crossover](images/point_crossover.png)\n",
    "\n",
    "* Cruzamento Uniforme: Este tipo de cruzamento escolhe de forma aleatória os genes para os descendentes. Na figura a seguir, os genes 1, 4 e 5 foram escolhidos do primeiro pai e os genes 2 e 3 do segundo.\n",
    "\n",
    "![uniform crossover](images/uniform_crossover.png)"
   ]
  },
  {
   "cell_type": "markdown",
   "metadata": {},
   "source": [
    "### Mutação\n",
    "\n",
    "Quando se produz um cromossoma descendente, existe uma probabilidade de ser mutado, i.e. de haver um ou mais genes que sofrem alterações aleatórias. Habitualmente define-se uma probabilidade de mutação para cada gene independente, $p_{mut}$.\n",
    "\n",
    "Por exemplo, digamos que o indivíduo 10011 sofre uma mutação no 3º gene, escolhido ao acaso, e que passa para \"10111\"."
   ]
  },
  {
   "cell_type": "markdown",
   "metadata": {},
   "source": [
    "### Selecção\n",
    "\n",
    "Em cada iteração, os indivíduos mais aptos têm maior probabilidade de serem escolhidos para reprodução e para contribuirem com os seus genes para a geração seguinte. Medimos a aptidão de cada indivíduo com uma *função de fitness*. Esta função depende de cada problema e é usada para dar uma pontuação a cada indivíduo.\n",
    "\n",
    "O processo de selecção é o seguinte:\n",
    "\n",
    "1) Os indivíduos são avaliados de acordo com o respectivo valor de fitness.\n",
    "\n",
    "2) Os indivíduos são escolhidos de forma aleatória, de acordo com os respectivos valores de fitnesses (em geral, quanto maior o fitness maiores chances de serem escolhidos). \n",
    "\n",
    "Variantes:\n",
    "\n",
    "    Roleta: a probabilidade de serem escolhidos é dada pelo razão entre o fitness e o fitness acumulado do total da população, expresso nesta fórmula (para uma population *P* e um indivíduo *i*):\n",
    "\n",
    "$$ chance(i) = \\dfrac{fitness(i)}{\\sum_{k \\, in \\, P}{fitness(k)}} $$\n",
    "\n",
    "<img src=\"images/roleta.png\" alt=\"Drawing\" style=\"width: 550px;\"/>\n",
    "\n",
    "\n",
    "    Rank: primeiro calcula-se o fitness de todos ordenando-se pelo fitness. O pior terá rank 1, o segundo pior rank 2, o melhor rank N. A probabilidade de serem escolhidos é dada pelo rank a dividir pelo somatório dos ranks do total da população, expresso nesta fórmula (para uma population *P* e um indivíduo *i*):\n",
    "\n",
    "$$ chance(i) = \\dfrac{rank(i)}{\\sum_{k \\, in \\, P}{rank(k)}} $$\n",
    "\n",
    "\n",
    "<img src=\"images/rank.png\" alt=\"Drawing\" style=\"width: 550px;\"/>\n",
    "\n",
    "\n",
    "   \n",
    "    Torneio de K: Escolhem ao acaso K indivíduos e selecciona-se o mais apto entre eles.\n",
    "\n",
    "<img src=\"images/torneio.jpeg\" alt=\"Drawing\" style=\"width: 450px;\"/>\n"
   ]
  },
  {
   "cell_type": "markdown",
   "metadata": {},
   "source": [
    "## Implementação em Python"
   ]
  },
  {
   "cell_type": "markdown",
   "metadata": {},
   "source": [
    "### Geração da população inicial\n",
    "Comecemos pela geração da população inicial, que recebe como inputs, por esta ordem, o tamanho da população, a pool de genes e o tamanho dos cromossomas"
   ]
  },
  {
   "cell_type": "markdown",
   "metadata": {},
   "source": [
    "A função `init_population` gera a população aleatória inicial dado o número de indivíduos, a pool de genes e o comprimento do cromossoma, por esta ordem:\n",
    "\n",
    "```python\n",
    "def init_population(pop_number, gene_pool, state_length):\n",
    "    \"\"\"Initializes population for genetic algorithm\n",
    "    pop_number  :  Number of individuals in population\n",
    "    gene_pool   :  List of possible values for individuals\n",
    "    state_length:  The length of each individual\"\"\"\n",
    "    g = len(gene_pool)\n",
    "    population = []\n",
    "    for i in range(pop_number):\n",
    "        new_individual = [gene_pool[random.randrange(0, g)] for j in range(state_length)]\n",
    "        population.append(new_individual)\n",
    "\n",
    "    return population\n",
    "```"
   ]
  },
  {
   "cell_type": "markdown",
   "metadata": {},
   "source": [
    "### Evolução em python\n",
    "Passemos ao núcleo duro do algoritmo genético que parte da população inicial e realiza a evolução."
   ]
  },
  {
   "cell_type": "markdown",
   "metadata": {},
   "source": [
    "O algoritmo recebe o input seguinte:\n",
    "\n",
    "* `population`: A população inicial.\n",
    "\n",
    "* `fitness_fn`: A função de fitness do problema.\n",
    "\n",
    "* `gene_pool`: O pool de genes dos indivíduos/cromossomas. Por omissão 0 e 1.\n",
    "\n",
    "* `f_thres`: O limiar de fitness. Quando um indivíduo atingir esse valor, o algoritmo pára. Por omissão, 'None', que significa que o algoritmo só parará quando tiverem decorrido todas as gerações.\n",
    "\n",
    "* `ngen`: O número de iterações/gerações.\n",
    "\n",
    "* `pmut`: A probabilidade de mutação.\n",
    "\n",
    "O algoritmo devolve como output o indivíduo com maior fitness da última geração."
   ]
  },
  {
   "cell_type": "markdown",
   "metadata": {},
   "source": [
    "```python\n",
    "def genetic_algorithm(population, fitness_fn, gene_pool=[0, 1], f_thres=None, ngen=1000, pmut=0.1):\n",
    "    \"\"\"[Figure 4.8]\"\"\"\n",
    "    for i in range(ngen):\n",
    "        population = [mutate(recombine(*select(2, population, fitness_fn)), gene_pool, pmut)\n",
    "                      for i in range(len(population))]\n",
    "\n",
    "        fittest_individual = fitness_threshold(fitness_fn, f_thres, population)\n",
    "        if fittest_individual:\n",
    "            return fittest_individual\n",
    "\n",
    "    return max(population, key=fitness_fn)\n",
    "```"
   ]
  },
  {
   "cell_type": "markdown",
   "metadata": {},
   "source": [
    "Para cada geração, o algoritmo actualiza a população. Calcula primeiro todos os fitnesses dos indivíduos, depois, até completar a nova geração, selecciona dois dos indivíduos, cruza-os de acordo com a taxa de mutação (`pmut`) e adiciona o descendente à nova geração. Se o indivíduo mais apto ultrapassar o limiar de fitness o algoritmo pára, mas também acaba quando esgotadas as gerações. No final devolve o indivíduo mais apto da última geração."
   ]
  },
  {
   "cell_type": "markdown",
   "metadata": {},
   "source": [
    "### Cruzamento entre cromossomas"
   ]
  },
  {
   "cell_type": "markdown",
   "metadata": {},
   "source": [
    "Em geneticSolo.py temos a implementação dos processos de recombinação uniforme e também o cruzamento pontual.\n",
    "\n",
    "A função de cruzamento num ponto é realizada através do método `recombine`, que escolhe um ponto de corte ao acaso e combina duas das partes de cada um dos pais (`x` e `y`).:"
   ]
  },
  {
   "cell_type": "markdown",
   "metadata": {},
   "source": [
    "```python\n",
    "def recombine(x, y):\n",
    "    n = len(x)\n",
    "    c = random.randrange(0, n)\n",
    "    return x[:c] + y[c:]\n",
    "```"
   ]
  },
  {
   "cell_type": "markdown",
   "metadata": {},
   "source": [
    "A função de cruzamento uniforme é realizada através do método `recombine_uniform`:"
   ]
  },
  {
   "cell_type": "markdown",
   "metadata": {},
   "source": [
    "```python\n",
    "def recombine_uniform(x, y):\n",
    "    n = len(x)\n",
    "    result = [0] * n\n",
    "    indexes = random.sample(range(n), n)\n",
    "    for i in range(n):\n",
    "        ix = indexes[i]\n",
    "        result[ix] = x[ix] if i < n / 2 else y[ix]\n",
    "\n",
    "    return ''.join(str(r) for r in result)\n",
    "```"
   ]
  },
  {
   "cell_type": "markdown",
   "metadata": {},
   "source": [
    "### A mutação\n",
    "A mutação é implementada com o `mutate` que recebe o cromossoma, a pool de genes e a taxa de mutação:"
   ]
  },
  {
   "cell_type": "markdown",
   "metadata": {},
   "source": [
    "```python\n",
    "def mutate(x, gene_pool, pmut):\n",
    "    if random.uniform(0, 1) >= pmut:\n",
    "        return x\n",
    "\n",
    "    n = len(x)\n",
    "    g = len(gene_pool)\n",
    "    c = random.randrange(0, n)\n",
    "    r = random.randrange(0, g)\n",
    "\n",
    "    new_gene = gene_pool[r]\n",
    "    return x[:c] + [new_gene] + x[c + 1:]\n",
    "```"
   ]
  },
  {
   "cell_type": "markdown",
   "metadata": {},
   "source": [
    "Se os dados estiverem de feição, face à taxa de mutação, escolhemos ao acaso apenas um dos genes para mutação em `x` e substituímos por qualquer elemento da pool de genes, escolhido aleatoriamente. Assim, na melhor das hipóteses apenas alteraremos um dos genes. "
   ]
  },
  {
   "cell_type": "markdown",
   "metadata": {},
   "source": [
    "### Selecção\n",
    "Temos apenas a selecção por roleta implementada a qual calcula o fitness de todos os indivíduos e que depois faz uso do método `weighted_sampler`. Neste caso o primeiro argumento indica quantos cromossomas queremos seleccionar que em geral são 1 ou 2; a população e a função de fitness são também inputs desta função que devolve uma lista dos elementos da população escolhidos.\n",
    "\n",
    "```python\n",
    "def select(r, population, fitness_fn):\n",
    "    fitnesses = map(fitness_fn, population)\n",
    "    sampler = weighted_sampler(population, fitnesses)\n",
    "    return [sampler() for i in range(r)]\n",
    "```"
   ]
  },
  {
   "cell_type": "markdown",
   "metadata": {},
   "source": [
    "## Exemplo: Geração de frases\n",
    "\n",
    "Vamos usar o algoritmo genético para gerar uma determinada frase a partir de uma população de frases aleatórias. Este exemplo é um clássico e que tem a pretensão de ilustrar o funcionamento do algoritmo de modo a que seja aplicado a problemas mais complexos."
   ]
  },
  {
   "cell_type": "markdown",
   "metadata": {},
   "source": [
    "### Força bruta\n",
    "\n",
    "Comecemos por reflectir sobre o uso da força bruta para o solucionar. Imaginem que queremos encontrar a frase \"algoritmo genético\". Esta frase é formada por 17 caracteres. Imaginem que só vamos poder usar caracteres minúsculos e o espaço. Para gerarmos uma frase aleatória de tamanho 17, cada espaço pode ser preenchido de 27 maneiras. Assim, o número total de frases possíveis é\n",
    "$$ 27^{17} = 2153693963075557766310747 $$\n",
    "\n",
    "que é um número imenso. Se quisermos gerar a frase \"Algoritmo Genético\" teríamos de incluir ainda todos os 26 caracteres maiúsculos aumentando o espaço de 27 para 53 caracteres, e então o espaço de frases teria uma dimensão de\n",
    "\n",
    "$$ 53^{17} = 205442259656281392806087233013 $$\n",
    "\n",
    "Se quisessemos incluir símbolos de pontuação e dígitos, ainda teríamos um espaço mais vasto e igualmente impossível de ser usado para procurar um a um. Assim, a força bruta não parece ser opção."
   ]
  },
  {
   "cell_type": "markdown",
   "metadata": {},
   "source": [
    "### Modelização através de um algoritmo genético\n",
    "\n",
    "Vamos agora aplicar um algoritmo genético e ver como é capaz de explorar progressivamente o espaço de frases. \n",
    "\n",
    "Cada cromossoma será uma frase. Essencialmente, queremos *evoluir* a população inicial de frases aleatórias de modo a que progressivamente se aproximem da frase desejada. Todos os cromossomas terão o tamanho da frase objectivo e teremos todas as minuscuclas e maiúscula + o espaço na pool de genes\n",
    "\n",
    "Neste problema em particular, escolheremos duas frases para progenitores e vamos usar cruzamento pontual para gerar as duas partes que serão combinadas, criando um cromossoma descendente, que será adicionado à sua geração.\n",
    "\n",
    "A mutação vai ser essencial para gerar variação. Um exemplo é quando temos uma população em que nenhum dos indivíduos possui um g no primeiro gene. Através do cruzamento de cromossomas nunca seremos capazes de evoluir a frase objectivo. Neste problema iremos mutar um dos genes escolhido aleatoriamente e que poderá mudar para qualquer valor da pool de genes, escolhido aleatoriamente.\n",
    "\n",
    "Para função de finess iremos calcular as semelhanças entre uma frase e a frase objectivo.  Esta função devolverá um escalar correspondente ao número de caracteres que fazem \"matching\" exacto com os caracteres do objectivo.\n",
    "\n",
    "Iremos utilizar a roleta como mecanismo de selecção.\n",
    "\n",
    "Vamos passar estas ideias para Python."
   ]
  },
  {
   "cell_type": "markdown",
   "metadata": {},
   "source": [
    "#### O objectivo\n",
    "Vamos definir a nossa frase objectivo"
   ]
  },
  {
   "cell_type": "code",
   "execution_count": 29,
   "metadata": {
    "collapsed": true
   },
   "outputs": [],
   "source": [
    "target = 'Genetic Algorithm'"
   ]
  },
  {
   "cell_type": "markdown",
   "metadata": {
    "collapsed": true
   },
   "source": [
    "#### A pool de genes\n",
    "E agora temos de definir a pool de genes, i.e os elementos que constituem os cromossomas. Netse caso, a pool de genes é formada por todas as letras maiúsculas e minúsculas do alfabeto inglês e também o espaço."
   ]
  },
  {
   "cell_type": "code",
   "execution_count": 30,
   "metadata": {
    "collapsed": true
   },
   "outputs": [],
   "source": [
    "# The ASCII values of uppercase characters ranges from 65 to 91\n",
    "u_case = [chr(x) for x in range(65, 91)]\n",
    "# The ASCII values of lowercase characters ranges from 97 to 123\n",
    "l_case = [chr(x) for x in range(97, 123)]\n",
    "\n",
    "gene_pool = []\n",
    "gene_pool.extend(u_case) # adds the uppercase list to the gene pool\n",
    "gene_pool.extend(l_case) # adds the lowercase list to the gene pool\n",
    "gene_pool.append(' ')    # adds the space character to the gene pool"
   ]
  },
  {
   "cell_type": "markdown",
   "metadata": {},
   "source": [
    "#### O tamanho da população\n",
    "Vamos definir agora o tamanho máximo de cada população. 100 parece ser um número não muito exagerado, capaz de introduzir alguma variação inicial."
   ]
  },
  {
   "cell_type": "code",
   "execution_count": 31,
   "metadata": {
    "collapsed": true
   },
   "outputs": [],
   "source": [
    "max_population = 100"
   ]
  },
  {
   "cell_type": "markdown",
   "metadata": {},
   "source": [
    "#### A taxa de mutação\n",
    "Como a nossa população não é muito grande, podemos dar-nos ao luxo de ter uma taxa de mutação elevada."
   ]
  },
  {
   "cell_type": "code",
   "execution_count": 32,
   "metadata": {
    "collapsed": true
   },
   "outputs": [],
   "source": [
    "mutation_rate = 0.07 # 7%"
   ]
  },
  {
   "cell_type": "markdown",
   "metadata": {},
   "source": [
    "#### Função de fitness\n",
    "UAU! Agora, podemos definir a função de fitness. Esta calcula o número de caracteres iguais nas duas frases, o indivíduo e a frase objectivo."
   ]
  },
  {
   "cell_type": "code",
   "execution_count": 33,
   "metadata": {
    "collapsed": true
   },
   "outputs": [],
   "source": [
    "def fitness_fn(sample):\n",
    "    # initialize fitness to 0\n",
    "    fitness = 0\n",
    "    for i in range(len(sample)):\n",
    "        # increment fitness by 1 for every matching character\n",
    "        if sample[i] == target[i]:\n",
    "            fitness += 1\n",
    "    return fitness"
   ]
  },
  {
   "cell_type": "markdown",
   "metadata": {},
   "source": [
    "#### Inicializando a população\n",
    "Antes de corrermos o algoritmo genético, precisamos de inicializar uma população formada por frases aleatórias. Vamos usara função `init_population`. Apenas precisamos de passar o tamanho máximo, a pool de genes e o comprimento de cada indivíduo. Notem que poderíamos ter frases de tamanhos diferentes, mas optámos por ter frases de igual comprimento, que será o mesmo da frase objectivo.\n",
    "Os cromossomas serão listas de caracteres."
   ]
  },
  {
   "cell_type": "code",
   "execution_count": 34,
   "metadata": {
    "collapsed": true
   },
   "outputs": [],
   "source": [
    "population = init_population(max_population, gene_pool, len(target))"
   ]
  },
  {
   "cell_type": "markdown",
   "metadata": {},
   "source": [
    "Vejamos ao acaso duas frases iniciais:"
   ]
  },
  {
   "cell_type": "code",
   "execution_count": 35,
   "metadata": {},
   "outputs": [
    {
     "name": "stdout",
     "output_type": "stream",
     "text": [
      "['L', 't', 'm', 'e', 'b', 'N', 'q', 'G', 'D', 'i', 'w', 'T', 'f', 'y', 'L', 'B', 'V']\n",
      "['L', 'v', 'x', 'K', 'i', 'y', 'z', 'd', 'r', 'j', 'V', 'U', 'j', 'N', 'n', 'g', 'P']\n"
     ]
    }
   ],
   "source": [
    "print(population[9])\n",
    "print(population[97])"
   ]
  },
  {
   "cell_type": "markdown",
   "metadata": {},
   "source": [
    "Podemos traduzi-las em strings, usando a função `join`:"
   ]
  },
  {
   "cell_type": "code",
   "execution_count": 36,
   "metadata": {},
   "outputs": [
    {
     "name": "stdout",
     "output_type": "stream",
     "text": [
      "LtmebNqGDiwTfyLBV\n",
      "LvxKiyzdrjVUjNngP\n"
     ]
    }
   ],
   "source": [
    "print(\"\".join(population[9]))\n",
    "print(\"\".join(population[97]))"
   ]
  },
  {
   "cell_type": "markdown",
   "metadata": {},
   "source": [
    "#### Ilustração da selecção\n",
    "Vamos agora mostrar como seleccionamos dois progenitores para serem recombinados, através da roleta."
   ]
  },
  {
   "cell_type": "code",
   "execution_count": 37,
   "metadata": {
    "collapsed": true
   },
   "outputs": [],
   "source": [
    "parents = select(2, population, fitness_fn) "
   ]
  },
  {
   "cell_type": "markdown",
   "metadata": {},
   "source": [
    "Eis os progenitores:"
   ]
  },
  {
   "cell_type": "code",
   "execution_count": 38,
   "metadata": {},
   "outputs": [
    {
     "name": "stdout",
     "output_type": "stream",
     "text": [
      "dbOitQbIMnKwOjUwU\n",
      "GvFOtCybDquSBtYFF\n"
     ]
    }
   ],
   "source": [
    "print(\"\".join(parents[0]))\n",
    "print(\"\".join(parents[1]))"
   ]
  },
  {
   "cell_type": "markdown",
   "metadata": {},
   "source": [
    "#### Ilustração da recombinação\n",
    "E agora iremos recombinar os progenitores através da função `recombine`."
   ]
  },
  {
   "cell_type": "code",
   "execution_count": 39,
   "metadata": {},
   "outputs": [
    {
     "name": "stdout",
     "output_type": "stream",
     "text": [
      "dbOitQbIDquSBtYFF\n"
     ]
    }
   ],
   "source": [
    "# The recombine function takes two parents as arguments, so we need to unpack the previous variable\n",
    "child = recombine(*parents)\n",
    "print(\"\".join(child))"
   ]
  },
  {
   "cell_type": "markdown",
   "metadata": {},
   "source": [
    "Procurem o ponto de corte nos cromossomas de cima durante o cruzamento."
   ]
  },
  {
   "cell_type": "markdown",
   "metadata": {},
   "source": [
    "#### Exemplo de mutação\n",
    "A seguir vamos aplicar a mutação de acordo com a taxa de mutação, invocando a função `mutate` ao cromossoa `child` fornecendo a pool de genes e a taxa de mutação como argumentos."
   ]
  },
  {
   "cell_type": "code",
   "execution_count": 40,
   "metadata": {},
   "outputs": [
    {
     "name": "stdout",
     "output_type": "stream",
     "text": [
      "dbOitQbIDquSBtYFF\n"
     ]
    }
   ],
   "source": [
    "child = mutate(child, gene_pool, mutation_rate)\n",
    "print(\"\".join(child))"
   ]
  },
  {
   "cell_type": "markdown",
   "metadata": {},
   "source": [
    "#### Criando a geração seguinte\n",
    "As linhas de cima podem ser condensadas em \n",
    "\n",
    "`child = mutate(recombine(*select(2, population, fitness_fn)), gene_pool, mutation_rate)`\n",
    "\n",
    "E, precisamos de fazer isto para gerar cada indivíduo da geração seguinte, substituindo a população."
   ]
  },
  {
   "cell_type": "code",
   "execution_count": 41,
   "metadata": {
    "collapsed": true
   },
   "outputs": [],
   "source": [
    "population = [mutate(recombine(*select(2, population, fitness_fn)), gene_pool, mutation_rate) for i in range(len(population))]"
   ]
  },
  {
   "cell_type": "markdown",
   "metadata": {},
   "source": [
    "#### O indivíduo de maior fitness\n",
    "Podemos encontrar o indivíduo com o maior fitness usando a função `max`."
   ]
  },
  {
   "cell_type": "code",
   "execution_count": 42,
   "metadata": {
    "collapsed": true
   },
   "outputs": [],
   "source": [
    "current_best = max(population, key=fitness_fn)"
   ]
  },
  {
   "cell_type": "markdown",
   "metadata": {},
   "source": [
    "Vamos imprimi-lo"
   ]
  },
  {
   "cell_type": "code",
   "execution_count": 43,
   "metadata": {},
   "outputs": [
    {
     "name": "stdout",
     "output_type": "stream",
     "text": [
      "GvFOtCyECNwjMicUm\n"
     ]
    }
   ],
   "source": [
    "print(\"\".join(current_best))"
   ]
  },
  {
   "cell_type": "markdown",
   "metadata": {},
   "source": [
    "#### Mas quando acaba a evolução?\n",
    "Precisamos agora de definir as condições para terminar o algoritmo. Temos duas situações:\n",
    "1. Terminação depois de um número predefinido de gerações\n",
    "2. Terminação quando o fitness do melhor indivíduo da geração corrente atingir o valor limiar de fitness.\n",
    "\n",
    "Vamos definir estas variáveis já a seguir\n",
    "\n",
    "Por exemplo, vamos querer que aevolução não ultrapasse 1200 gerações? Porquê 1200? Não sabemos, parece um número não demasiado longo mas suficiente para atingirmos o objectivo."
   ]
  },
  {
   "cell_type": "code",
   "execution_count": 44,
   "metadata": {
    "collapsed": true
   },
   "outputs": [],
   "source": [
    "ngen = 1200 # maximum number of generations"
   ]
  },
  {
   "cell_type": "markdown",
   "metadata": {},
   "source": [
    "Vamos querer parar a evolução apenas se encontrarmos a frase desejada ou então esgotarmos as 1220 gerações."
   ]
  },
  {
   "cell_type": "code",
   "execution_count": 45,
   "metadata": {
    "collapsed": true
   },
   "outputs": [],
   "source": [
    "f_thres = len(target)"
   ]
  },
  {
   "cell_type": "markdown",
   "metadata": {
    "collapsed": true
   },
   "source": [
    "#### A evolução passo a passo, ou melhor geração a geração\n",
    "Para gerarmos um número `ngen` de gerações, executamos um ciclo `for` um número `ngen` de vezes. Depois de cada geração calculamos o fitness do melhor indivíduo da geração e comparamo-lo com o valor de limiar de fitness, `f_thres` usando a função `fitness_threshold`. Depois de cada geração imprimimos o melhor indiv+iduo da sua geração e o respectivo valor de fitness. Esta é a função que faz tudo isto:"
   ]
  },
  {
   "cell_type": "code",
   "execution_count": 46,
   "metadata": {
    "collapsed": true
   },
   "outputs": [],
   "source": [
    "def genetic_algorithm_stepwise(population, fitness_fn, gene_pool=[0, 1], f_thres=None, ngen=1200, pmut=0.1):\n",
    "    for generation in range(ngen):\n",
    "        population = [mutate(recombine(*select(2, population, fitness_fn)), gene_pool, pmut) for i in range(len(population))]\n",
    "        # stores the individual genome with the highest fitness in the current population\n",
    "        current_best = ''.join(max(population, key=fitness_fn))\n",
    "        print(f'Current best: {current_best}\\t\\tGeneration: {str(generation)}\\t\\tFitness: {fitness_fn(current_best)}\\r', end='')\n",
    "        \n",
    "        # compare the fitness of the current best individual to f_thres\n",
    "        fittest_individual = fitness_threshold(fitness_fn, f_thres, population)\n",
    "        \n",
    "        # if fitness is greater than or equal to f_thres, we terminate the algorithm\n",
    "        if fittest_individual:\n",
    "            return fittest_individual, generation\n",
    "    return max(population, key=fitness_fn) , generation       "
   ]
  },
  {
   "cell_type": "markdown",
   "metadata": {},
   "source": [
    "A função aqui definida é essencialmente a mesma que a definida em `geneticoSolo.py`, apenas com a funcionalidade adicional de imprimir os dados de cada geração."
   ]
  },
  {
   "cell_type": "markdown",
   "metadata": {},
   "source": [
    "#### Desencadeando a evolução:\n",
    "Já definimos todas as funções e variáveis necessárias. Vamos agora criar uma população inicial para testar a função que acabámos de implementar."
   ]
  },
  {
   "cell_type": "code",
   "execution_count": 47,
   "metadata": {},
   "outputs": [
    {
     "name": "stdout",
     "output_type": "stream",
     "text": [
      "Current best: Genetic Algorithm\t\tGeneration: 637\t\tFitness: 17\r"
     ]
    }
   ],
   "source": [
    "solution, generations = genetic_algorithm_stepwise(population, fitness_fn, gene_pool, f_thres, ngen, mutation_rate)"
   ]
  },
  {
   "cell_type": "markdown",
   "metadata": {},
   "source": [
    "O algoritmo genético foi capaz de convergir para a frase desejada?\n",
    "Brinquem com este algoritmo alterando a frase alvo, o tamanho da população, o número de gerações, o limiar de fitness e a taxa de mutação, para obterem uma melhor intuição acerca do modo como funciona o algoritmo..\n",
    "- Existe uma versão GUI deste programa `genetic_algorithm_example.py`, para voçês brincarem."
   ]
  },
  {
   "cell_type": "markdown",
   "metadata": {},
   "source": [
    "### Coloração de Grafos\n",
    "\n",
    "Vamos aplicar o algoritmo genético para colorir um grafo com duas cores.\n",
    "\n",
    "Comecemos por representar as cores. 'A' para azul e 'V' para verde. Formam a pool de genes.\n",
    "\n",
    "E o que serão os indivíduos? Reflectamos sobre o problema. Temos um grafo que tem nós e arcos e queremos colorir os nós de modo a que nenhum arco ligue dois nós da mesma cor. Assim, teremos de registar as cores de cada um dos nós. Se tivermos 4 nós poderemos registar as cores respectivas numa lista de genes, um para cada nó. Uma solução possível será por exemplo assim: ['A', 'A', 'V', 'A']. No caso genérico, iremos representar cada solução como uma lista de caracteres ('A' e 'V'), com um comprimento igual ao número de nós.\n",
    "\n",
    "A seguir, precisamos de uma função de fitness que avalie os indivíduos. Queremos colorir um grafo de modo a que nenhum arco ligue nós de cores iguais. Como poderemos usar esta informação para avaliar o fitness de um indivíduo? Uma abordagem naive e pouco eficaz seria contar o número de cores na cadeia. Assim, ['A', 'A', 'A', 'A'] teria um valor de 1 e ['A', 'A', 'V', 'V'] um valor de 2. Porque é que esta função não é ideal? Porque esquecemos a informação sobre os arcos que têm um papel fundamentais. Ao usarmos a informação apenas dos nós não usámos toda a informação e acabámos com uma função de fitness ineficaz. Então como poderemos usar essa informação para nossa vantagem?\n",
    "\n",
    "Dissemos que a solução é óptima quando todos os arcos do grafo ligarem nós de diferentes cores. Assim, basta-nos calcular quantos arcos válidos (ligando nós de cores diferentes) existem. É uma grande função de fitness! \n",
    "\n",
    "Vamos então atacar o problema com o algoritmo genético."
   ]
  },
  {
   "cell_type": "markdown",
   "metadata": {},
   "source": [
    "Precisamos primeiro de representar um grafo. Basta-nos guardar os arcos que serão letras Maiúsculas e os nós serão inteiros."
   ]
  },
  {
   "cell_type": "code",
   "execution_count": 21,
   "metadata": {
    "collapsed": true
   },
   "outputs": [],
   "source": [
    "edges = {\n",
    "    'A': [0, 1],\n",
    "    'B': [0, 3],\n",
    "    'C': [1, 2],\n",
    "    'D': [2, 3]\n",
    "}"
   ]
  },
  {
   "cell_type": "markdown",
   "metadata": {},
   "source": [
    "O arco 'A' liga os nós 0 e 1, o arco 'B' liga os nós 0 e 3 etc. A representação em inteiros é feliz porque podemos saber qual a cor do nó 0 lendo o gene do cromossoma, na sua posição 0.\n",
    "\n",
    "Já dissemos que a pool de genes é formada por 'E' e 'V'. Podemos então inicializar a população. Como só temos 4 nós, `state_length` deve ser 4. Vamos tentar uma população de 8 indivíduos. Podemos aumentar este número se precisarmos de mais precisão, mas sejam cautelosos, porque populações maiores precisam de mais poder de fogo computacional e demoram mais tempo a evoluir. É necessário encontrar o balanço doce entre precisão e custo (o dilema fundamental do programador!)."
   ]
  },
  {
   "cell_type": "code",
   "execution_count": 22,
   "metadata": {},
   "outputs": [
    {
     "name": "stdout",
     "output_type": "stream",
     "text": [
      "[['V', 'V', 'V', 'V'], ['V', 'A', 'V', 'A'], ['A', 'V', 'A', 'A'], ['A', 'A', 'A', 'A'], ['V', 'A', 'V', 'V'], ['V', 'A', 'V', 'V'], ['A', 'V', 'A', 'A'], ['A', 'A', 'V', 'A']]\n"
     ]
    }
   ],
   "source": [
    "population = init_population(8, ['A', 'V'], 4)\n",
    "print(population)"
   ]
  },
  {
   "cell_type": "markdown",
   "metadata": {},
   "source": [
    "Acabámos e criar e de imprimir a população. Podem ver que os genes dos individuos são aleatórios e que existem 8 cromossomas cada um com 4 genes.\n",
    "\n",
    "Vamos agora escrever a função de fitness que calcula o número de arcos válidos:"
   ]
  },
  {
   "cell_type": "code",
   "execution_count": 23,
   "metadata": {
    "collapsed": true
   },
   "outputs": [],
   "source": [
    "def fitness(c):\n",
    "    return sum(c[n1] != c[n2] for (n1, n2) in edges.values())"
   ]
  },
  {
   "cell_type": "markdown",
   "metadata": {},
   "source": [
    "Bravo! Agora iremos executar o algoritmo e verificar a solução que devolve."
   ]
  },
  {
   "cell_type": "code",
   "execution_count": 24,
   "metadata": {},
   "outputs": [
    {
     "name": "stdout",
     "output_type": "stream",
     "text": [
      "['V', 'A', 'V', 'A']\n"
     ]
    }
   ],
   "source": [
    "solution = genetic_algorithm(population, fitness, gene_pool=['A', 'V'])\n",
    "print(solution)"
   ]
  },
  {
   "cell_type": "markdown",
   "metadata": {},
   "source": [
    "O algoritmo convergiu, vamos verificar o fitness do melhor:"
   ]
  },
  {
   "cell_type": "code",
   "execution_count": 25,
   "metadata": {},
   "outputs": [
    {
     "name": "stdout",
     "output_type": "stream",
     "text": [
      "4\n"
     ]
    }
   ],
   "source": [
    "print(fitness(solution))"
   ]
  },
  {
   "cell_type": "markdown",
   "metadata": {},
   "source": [
    "A solução tem um fitness de 4, sendo óptima porque há exactamente 4 arcos no grafo!\n",
    "\n",
    "*NOTEM: pelo facto do algoritmo ser não determinístico, existe a possibilidade de encontrar uma solução diferente numa nova execução. Até pode estar errada se não tiverem sorte!*"
   ]
  },
  {
   "cell_type": "markdown",
   "metadata": {},
   "source": [
    "### 8 Raínhas\n",
    "\n",
    "<img src=\"images/queen_s.png\" alt=\"Drawing\" style=\"width: 150px;\"/>\n",
    "\n",
    "\n",
    "No problema das *8 Raínhas*, desejamos dispor as 8 raínhas num tabuleiro 8x8 sem que se ataquem entre si (elas não podem estar nas mesma linhas, colunas ou diagonais).\n",
    "\n",
    "Vamos representar cada uma das soluções. Podemos seguir o caminho naive de representar todo o tabuleiro com ou sem raínhas. Poderia ser, mas vamos seguir um caminho diferente. Temos 8 raínhas, e teremos 1 gene para cada uma delas. A pool de genes é formada pelos inteiros de 0 a 7, representando as colunas onde estão. A *posição* do gene denota a linha da raínha correspondente.\n",
    "\n",
    "Por exemplo, podemos ter o indivíduo \"03304577\". O primeiro gene a 0 quer dizer que a raínha na linha 0 está na coluna 0; o segundo gene representa que a raínha da linha 1 está na coluna 3 e por aí adiante.\n",
    "\n",
    "Precisamos de engendrar uma função de fitness. Para o problema da coloração de um grafo contámos os arcos válidos. Podemos aplicar o mesmo tipo de solução para as raínhas. Podemos contar o número de pares de raínhas que não se atacam.\n",
    "\n",
    "Vamos inicializar a população com 100 indivíduos em que cada um tem 8 genes. A pool de genes é formada pelos inteiros de 0 a 7. Podemos ver os primeiros 5 indivíduos."
   ]
  },
  {
   "cell_type": "code",
   "execution_count": 26,
   "metadata": {},
   "outputs": [
    {
     "name": "stdout",
     "output_type": "stream",
     "text": [
      "[[2, 7, 5, 4, 2, 3, 4, 6], [2, 7, 1, 5, 7, 1, 7, 6], [3, 1, 0, 0, 5, 3, 0, 3], [3, 4, 0, 3, 7, 4, 4, 6], [4, 1, 7, 4, 7, 7, 1, 7]]\n"
     ]
    }
   ],
   "source": [
    "population = init_population(100, range(8), 8)\n",
    "print(population[:5])"
   ]
  },
  {
   "cell_type": "markdown",
   "metadata": {},
   "source": [
    "Vamos a seguir escrever a função de fitness. Lembrem-se que as raínhas atacam-se entre si se estiverem na mesma linha, columa ou diagonais.\n",
    "\n",
    "Não devemos contar as ameaças duas vezes tendo em atenção que se a raínha 1 ataca a 2, a 2 ataca 1 e o mesmo acontece quando não se atacam. Assim, para cada raínha iremos verificar os ataques às raínhas que lhe sucedem na lista.\n",
    "\n",
    "Cada gene corresponde à sua coluna e a posição do gene denota a linha. Teremos de verificar se estão na mesma coluna ao comparar os genes. Teremos de verificar as diagonais, e não precisamos de verificar as linhas. Uma raínha *a* está na mesma diagonal de outra raínha *b*, se a diferença das linhas é igual tanto às diferenças nas colunas (diagonal à direita de *a*) como às diferenças negativas das colunas (diagonal esquerda de *a*). Eis a função de fitness:"
   ]
  },
  {
   "cell_type": "code",
   "execution_count": 27,
   "metadata": {
    "collapsed": true
   },
   "outputs": [],
   "source": [
    "def fitness(q):\n",
    "    non_attacking = 0\n",
    "    for row1 in range(len(q)):\n",
    "        for row2 in range(row1+1, len(q)):\n",
    "            col1 = int(q[row1])\n",
    "            col2 = int(q[row2])\n",
    "            row_diff = row1 - row2\n",
    "            col_diff = col1 - col2\n",
    "\n",
    "            if col1 != col2 and row_diff != col_diff and row_diff != -col_diff:\n",
    "                non_attacking += 1\n",
    "\n",
    "    return non_attacking"
   ]
  },
  {
   "cell_type": "markdown",
   "metadata": {},
   "source": [
    "Notem que o melhor valor de fitness é 28. Isto porque cada raínha apenas irá verificar se ataca as raínhas que lhe sucedem. a primeira raínha verifica 7 outras, a segunda verifica 6 outras e por aí adiante. Em suma, o número de verificações de ataques é a soma 7+6+5+...+1, que é igual a 7\\*(7+1)/2 ou 28.\n",
    "\n",
    "Porque é difícil e demora a encontrar uma solução perfeita, iremos colocar o limiar a 25. Vejemos como se comporta o alg. genético."
   ]
  },
  {
   "cell_type": "code",
   "execution_count": 28,
   "metadata": {},
   "outputs": [
    {
     "name": "stdout",
     "output_type": "stream",
     "text": [
      "Wall time: 229 ms\n",
      "[4, 7, 2, 6, 2, 0, 5, 0]\n",
      "25\n"
     ]
    }
   ],
   "source": [
    "%time solution = genetic_algorithm(population, fitness, f_thres=25, gene_pool=range(8))\n",
    "print(solution)\n",
    "print(fitness(solution))"
   ]
  },
  {
   "cell_type": "markdown",
   "metadata": {},
   "source": [
    "Em cima podem ver a solução e o respectivo valor de fitness, que não poderá ser menor do que 25.\n",
    "Podem alterar para 26, 27 ou 28. Notem que os algoritmos genéticos podem sofrer de evolução prematura e convergir para óptimos locais.  "
   ]
  }
 ],
 "metadata": {
  "kernelspec": {
   "display_name": "Python 3",
   "language": "python",
   "name": "python3"
  },
  "language_info": {
   "codemirror_mode": {
    "name": "ipython",
    "version": 3
   },
   "file_extension": ".py",
   "mimetype": "text/x-python",
   "name": "python",
   "nbconvert_exporter": "python",
   "pygments_lexer": "ipython3",
   "version": "3.7.1"
  },
  "pycharm": {
   "stem_cell": {
    "cell_type": "raw",
    "metadata": {
     "collapsed": false
    },
    "source": []
   }
  },
  "widgets": {
   "state": {
    "1516e2501ddd4a2e8e3250bffc0164db": {
     "views": [
      {
       "cell_index": 59
      }
     ]
    },
    "17be64c89a9a4a43b3272cb018df0970": {
     "views": [
      {
       "cell_index": 59
      }
     ]
    },
    "ac05040009a340b0af81b0ee69161fbc": {
     "views": [
      {
       "cell_index": 59
      }
     ]
    },
    "d9735ffe77c24f13ae4ad3620ce84334": {
     "views": [
      {
       "cell_index": 59
      }
     ]
    }
   },
   "version": "1.2.0"
  }
 },
 "nbformat": 4,
 "nbformat_minor": 1
}
